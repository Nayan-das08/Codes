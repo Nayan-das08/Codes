{
 "cells": [
  {
   "cell_type": "code",
   "execution_count": 1,
   "id": "1116854f",
   "metadata": {},
   "outputs": [],
   "source": [
    "import pandas as pd\n",
    "import numpy as np"
   ]
  },
  {
   "cell_type": "code",
   "execution_count": 2,
   "id": "8b211276",
   "metadata": {},
   "outputs": [
    {
     "data": {
      "text/html": [
       "<div>\n",
       "<style scoped>\n",
       "    .dataframe tbody tr th:only-of-type {\n",
       "        vertical-align: middle;\n",
       "    }\n",
       "\n",
       "    .dataframe tbody tr th {\n",
       "        vertical-align: top;\n",
       "    }\n",
       "\n",
       "    .dataframe thead th {\n",
       "        text-align: right;\n",
       "    }\n",
       "</style>\n",
       "<table border=\"1\" class=\"dataframe\">\n",
       "  <thead>\n",
       "    <tr style=\"text-align: right;\">\n",
       "      <th></th>\n",
       "      <th>Date</th>\n",
       "      <th>Open</th>\n",
       "      <th>High</th>\n",
       "      <th>Low</th>\n",
       "      <th>Close</th>\n",
       "      <th>Adj Close</th>\n",
       "      <th>Volume</th>\n",
       "    </tr>\n",
       "  </thead>\n",
       "  <tbody>\n",
       "    <tr>\n",
       "      <th>0</th>\n",
       "      <td>2015-09-16</td>\n",
       "      <td>92.500000</td>\n",
       "      <td>92.500000</td>\n",
       "      <td>90.500000</td>\n",
       "      <td>91.349998</td>\n",
       "      <td>91.349998</td>\n",
       "      <td>20762</td>\n",
       "    </tr>\n",
       "    <tr>\n",
       "      <th>1</th>\n",
       "      <td>2015-09-18</td>\n",
       "      <td>92.199997</td>\n",
       "      <td>93.000000</td>\n",
       "      <td>90.250000</td>\n",
       "      <td>90.949997</td>\n",
       "      <td>90.949997</td>\n",
       "      <td>66296</td>\n",
       "    </tr>\n",
       "    <tr>\n",
       "      <th>2</th>\n",
       "      <td>2015-09-21</td>\n",
       "      <td>90.300003</td>\n",
       "      <td>92.500000</td>\n",
       "      <td>90.050003</td>\n",
       "      <td>91.150002</td>\n",
       "      <td>91.150002</td>\n",
       "      <td>36083</td>\n",
       "    </tr>\n",
       "    <tr>\n",
       "      <th>3</th>\n",
       "      <td>2015-09-22</td>\n",
       "      <td>90.550003</td>\n",
       "      <td>92.300003</td>\n",
       "      <td>87.000000</td>\n",
       "      <td>87.900002</td>\n",
       "      <td>87.900002</td>\n",
       "      <td>62230</td>\n",
       "    </tr>\n",
       "    <tr>\n",
       "      <th>4</th>\n",
       "      <td>2015-09-23</td>\n",
       "      <td>88.000000</td>\n",
       "      <td>94.699997</td>\n",
       "      <td>82.800003</td>\n",
       "      <td>89.050003</td>\n",
       "      <td>89.050003</td>\n",
       "      <td>615823</td>\n",
       "    </tr>\n",
       "  </tbody>\n",
       "</table>\n",
       "</div>"
      ],
      "text/plain": [
       "         Date       Open       High        Low      Close  Adj Close  Volume\n",
       "0  2015-09-16  92.500000  92.500000  90.500000  91.349998  91.349998   20762\n",
       "1  2015-09-18  92.199997  93.000000  90.250000  90.949997  90.949997   66296\n",
       "2  2015-09-21  90.300003  92.500000  90.050003  91.150002  91.150002   36083\n",
       "3  2015-09-22  90.550003  92.300003  87.000000  87.900002  87.900002   62230\n",
       "4  2015-09-23  88.000000  94.699997  82.800003  89.050003  89.050003  615823"
      ]
     },
     "execution_count": 2,
     "metadata": {},
     "output_type": "execute_result"
    }
   ],
   "source": [
    "df = pd.read_csv('NDTV.NS (4).csv')\n",
    "df.head()"
   ]
  },
  {
   "cell_type": "code",
   "execution_count": 3,
   "id": "fc847e5d",
   "metadata": {},
   "outputs": [
    {
     "data": {
      "text/plain": [
       "(1726, 7)"
      ]
     },
     "execution_count": 3,
     "metadata": {},
     "output_type": "execute_result"
    }
   ],
   "source": [
    "df.shape"
   ]
  },
  {
   "cell_type": "code",
   "execution_count": 11,
   "id": "8c0a4118",
   "metadata": {},
   "outputs": [
    {
     "data": {
      "text/plain": [
       "4"
      ]
     },
     "execution_count": 11,
     "metadata": {},
     "output_type": "execute_result"
    }
   ],
   "source": [
    "df.columns.get_loc('Close')"
   ]
  },
  {
   "cell_type": "code",
   "execution_count": 18,
   "id": "fcd3f2f4",
   "metadata": {},
   "outputs": [
    {
     "data": {
      "text/plain": [
       "40"
      ]
     },
     "execution_count": 18,
     "metadata": {},
     "output_type": "execute_result"
    }
   ],
   "source": [
    "till_40 = list(df.iloc[:40, df.columns.get_loc('Close')])\n",
    "len(till_40)"
   ]
  },
  {
   "cell_type": "code",
   "execution_count": 22,
   "id": "44a030d5",
   "metadata": {},
   "outputs": [
    {
     "data": {
      "text/plain": [
       "10"
      ]
     },
     "execution_count": 22,
     "metadata": {},
     "output_type": "execute_result"
    }
   ],
   "source": [
    "from_60_to_70 = list(df.iloc[60:70, df.columns.get_loc('Close')])\n",
    "len(from_60_to_70)"
   ]
  },
  {
   "cell_type": "code",
   "execution_count": 23,
   "id": "ae42240b",
   "metadata": {},
   "outputs": [
    {
     "data": {
      "text/plain": [
       "10"
      ]
     },
     "execution_count": 23,
     "metadata": {},
     "output_type": "execute_result"
    }
   ],
   "source": [
    "from_90_to_100 = list(df.iloc[90:100, df.columns.get_loc('Close')])\n",
    "len(from_90_to_100)"
   ]
  },
  {
   "cell_type": "markdown",
   "id": "0f514a43",
   "metadata": {},
   "source": [
    "# Voila!"
   ]
  },
  {
   "cell_type": "code",
   "execution_count": null,
   "id": "bc1c371f",
   "metadata": {},
   "outputs": [],
   "source": []
  },
  {
   "cell_type": "code",
   "execution_count": null,
   "id": "9754020d",
   "metadata": {},
   "outputs": [],
   "source": []
  },
  {
   "cell_type": "code",
   "execution_count": null,
   "id": "f9afded9",
   "metadata": {},
   "outputs": [],
   "source": []
  },
  {
   "cell_type": "code",
   "execution_count": null,
   "id": "89bbafa8",
   "metadata": {},
   "outputs": [],
   "source": []
  },
  {
   "cell_type": "code",
   "execution_count": null,
   "id": "4062c954",
   "metadata": {},
   "outputs": [],
   "source": []
  },
  {
   "cell_type": "code",
   "execution_count": null,
   "id": "71bf1ce9",
   "metadata": {},
   "outputs": [],
   "source": []
  }
 ],
 "metadata": {
  "kernelspec": {
   "display_name": "Python 3 (ipykernel)",
   "language": "python",
   "name": "python3"
  },
  "language_info": {
   "codemirror_mode": {
    "name": "ipython",
    "version": 3
   },
   "file_extension": ".py",
   "mimetype": "text/x-python",
   "name": "python",
   "nbconvert_exporter": "python",
   "pygments_lexer": "ipython3",
   "version": "3.9.7"
  }
 },
 "nbformat": 4,
 "nbformat_minor": 5
}
