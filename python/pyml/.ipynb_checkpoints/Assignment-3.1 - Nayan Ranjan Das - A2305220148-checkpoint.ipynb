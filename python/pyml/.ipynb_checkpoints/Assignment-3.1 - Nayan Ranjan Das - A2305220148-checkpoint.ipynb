{
 "cells": [
  {
   "cell_type": "markdown",
   "id": "db99791b",
   "metadata": {},
   "source": [
    "# Assignment 3.1\n",
    "Nayan Ranjan Das\n",
    "\n",
    "A2305220148 | 5CSE2"
   ]
  },
  {
   "cell_type": "code",
   "execution_count": 1,
   "id": "433b7c0c",
   "metadata": {},
   "outputs": [],
   "source": [
    "import numpy as np\n",
    "import matplotlib.pyplot as plt\n",
    "import pandas as pd\n",
    "import seaborn as sns"
   ]
  },
  {
   "cell_type": "code",
   "execution_count": 2,
   "id": "b77a7f67",
   "metadata": {},
   "outputs": [
    {
     "data": {
      "text/html": [
       "<div>\n",
       "<style scoped>\n",
       "    .dataframe tbody tr th:only-of-type {\n",
       "        vertical-align: middle;\n",
       "    }\n",
       "\n",
       "    .dataframe tbody tr th {\n",
       "        vertical-align: top;\n",
       "    }\n",
       "\n",
       "    .dataframe thead th {\n",
       "        text-align: right;\n",
       "    }\n",
       "</style>\n",
       "<table border=\"1\" class=\"dataframe\">\n",
       "  <thead>\n",
       "    <tr style=\"text-align: right;\">\n",
       "      <th></th>\n",
       "      <th>Date</th>\n",
       "      <th>TimeOfAcc</th>\n",
       "      <th>AccLocation</th>\n",
       "      <th>NatureAccident</th>\n",
       "      <th>ClassificationOfAccident</th>\n",
       "      <th>Causes</th>\n",
       "      <th>RoadFeature</th>\n",
       "      <th>RoadCondition</th>\n",
       "      <th>IntersectionTypeControl</th>\n",
       "      <th>WeatherCondition</th>\n",
       "      <th>VehicleResponsible</th>\n",
       "      <th>Fatal</th>\n",
       "      <th>Grevious</th>\n",
       "      <th>Minor</th>\n",
       "      <th>Injured</th>\n",
       "      <th>NumAnimalsKilled</th>\n",
       "      <th>HelpProvidedByAmbulancePatrol</th>\n",
       "      <th>Remarks</th>\n",
       "    </tr>\n",
       "  </thead>\n",
       "  <tbody>\n",
       "    <tr>\n",
       "      <th>0</th>\n",
       "      <td>9/6/2015</td>\n",
       "      <td>09:00 AM</td>\n",
       "      <td>Ch. 69+5006</td>\n",
       "      <td>2</td>\n",
       "      <td>2</td>\n",
       "      <td>2</td>\n",
       "      <td>2</td>\n",
       "      <td>1</td>\n",
       "      <td>9</td>\n",
       "      <td>1</td>\n",
       "      <td>One Diesel Truck collapsed</td>\n",
       "      <td>0</td>\n",
       "      <td>2</td>\n",
       "      <td>1</td>\n",
       "      <td>0</td>\n",
       "      <td>0</td>\n",
       "      <td>Petrol Vehicle</td>\n",
       "      <td>NaN</td>\n",
       "    </tr>\n",
       "    <tr>\n",
       "      <th>1</th>\n",
       "      <td>9/5/2014</td>\n",
       "      <td>07:18 AM</td>\n",
       "      <td>72+500</td>\n",
       "      <td>7</td>\n",
       "      <td>1</td>\n",
       "      <td>2</td>\n",
       "      <td>2</td>\n",
       "      <td>3</td>\n",
       "      <td>9</td>\n",
       "      <td>1</td>\n",
       "      <td>Lorry &amp; Scorpio</td>\n",
       "      <td>2</td>\n",
       "      <td>0</td>\n",
       "      <td>0</td>\n",
       "      <td>0</td>\n",
       "      <td>0</td>\n",
       "      <td>Ambulance</td>\n",
       "      <td>NaN</td>\n",
       "    </tr>\n",
       "    <tr>\n",
       "      <th>2</th>\n",
       "      <td>9/10/2014</td>\n",
       "      <td>08:50 AM</td>\n",
       "      <td>20+250 LHS</td>\n",
       "      <td>4</td>\n",
       "      <td>-</td>\n",
       "      <td>3</td>\n",
       "      <td>3</td>\n",
       "      <td>1</td>\n",
       "      <td>9</td>\n",
       "      <td>1</td>\n",
       "      <td>LCV (KA02 AD 4041) HIT CAR (KA 19 Z 8477)</td>\n",
       "      <td>0</td>\n",
       "      <td>0</td>\n",
       "      <td>0</td>\n",
       "      <td>0</td>\n",
       "      <td>0</td>\n",
       "      <td>Petrol Vehicle</td>\n",
       "      <td>NO PROPERTY DAMAGES. INFORMED KEY PERSONS.</td>\n",
       "    </tr>\n",
       "    <tr>\n",
       "      <th>3</th>\n",
       "      <td>8/9/2015</td>\n",
       "      <td>05:00 AM</td>\n",
       "      <td>NaN</td>\n",
       "      <td>1</td>\n",
       "      <td>2</td>\n",
       "      <td>2</td>\n",
       "      <td>1</td>\n",
       "      <td>3</td>\n",
       "      <td>9</td>\n",
       "      <td>1</td>\n",
       "      <td>Lorry Truck</td>\n",
       "      <td>0</td>\n",
       "      <td>1</td>\n",
       "      <td>1</td>\n",
       "      <td>0</td>\n",
       "      <td>0</td>\n",
       "      <td>Petrol Vehicle</td>\n",
       "      <td>NaN</td>\n",
       "    </tr>\n",
       "    <tr>\n",
       "      <th>4</th>\n",
       "      <td>8/4/2015</td>\n",
       "      <td>08:23 AM</td>\n",
       "      <td>126.800 KM RHS</td>\n",
       "      <td>2</td>\n",
       "      <td>2</td>\n",
       "      <td>2</td>\n",
       "      <td>4</td>\n",
       "      <td>4</td>\n",
       "      <td>9</td>\n",
       "      <td>1</td>\n",
       "      <td>Car</td>\n",
       "      <td>0</td>\n",
       "      <td>2</td>\n",
       "      <td>1</td>\n",
       "      <td>1</td>\n",
       "      <td>0</td>\n",
       "      <td>Petrol Vehicle</td>\n",
       "      <td>A car upside due to over speed</td>\n",
       "    </tr>\n",
       "  </tbody>\n",
       "</table>\n",
       "</div>"
      ],
      "text/plain": [
       "        Date TimeOfAcc     AccLocation  NatureAccident  \\\n",
       "0   9/6/2015  09:00 AM     Ch. 69+5006               2   \n",
       "1   9/5/2014  07:18 AM          72+500               7   \n",
       "2  9/10/2014  08:50 AM      20+250 LHS               4   \n",
       "3   8/9/2015  05:00 AM             NaN               1   \n",
       "4   8/4/2015  08:23 AM  126.800 KM RHS               2   \n",
       "\n",
       "  ClassificationOfAccident Causes  RoadFeature  RoadCondition  \\\n",
       "0                        2      2            2              1   \n",
       "1                        1      2            2              3   \n",
       "2                        -      3            3              1   \n",
       "3                        2      2            1              3   \n",
       "4                        2      2            4              4   \n",
       "\n",
       "   IntersectionTypeControl  WeatherCondition  \\\n",
       "0                        9                 1   \n",
       "1                        9                 1   \n",
       "2                        9                 1   \n",
       "3                        9                 1   \n",
       "4                        9                 1   \n",
       "\n",
       "                          VehicleResponsible  Fatal  Grevious  Minor  Injured  \\\n",
       "0                 One Diesel Truck collapsed      0         2      1        0   \n",
       "1                            Lorry & Scorpio      2         0      0        0   \n",
       "2  LCV (KA02 AD 4041) HIT CAR (KA 19 Z 8477)      0         0      0        0   \n",
       "3                                Lorry Truck      0         1      1        0   \n",
       "4                                        Car      0         2      1        1   \n",
       "\n",
       "   NumAnimalsKilled HelpProvidedByAmbulancePatrol  \\\n",
       "0                 0                Petrol Vehicle   \n",
       "1                 0                     Ambulance   \n",
       "2                 0                Petrol Vehicle   \n",
       "3                 0                Petrol Vehicle   \n",
       "4                 0                Petrol Vehicle   \n",
       "\n",
       "                                      Remarks  \n",
       "0                                         NaN  \n",
       "1                                         NaN  \n",
       "2  NO PROPERTY DAMAGES. INFORMED KEY PERSONS.  \n",
       "3                                         NaN  \n",
       "4              A car upside due to over speed  "
      ]
     },
     "execution_count": 2,
     "metadata": {},
     "output_type": "execute_result"
    }
   ],
   "source": [
    "df = pd.read_csv('NHAIAccidentData-1.csv')\n",
    "df.head()"
   ]
  },
  {
   "cell_type": "code",
   "execution_count": 3,
   "id": "45e61a62",
   "metadata": {},
   "outputs": [
    {
     "data": {
      "text/plain": [
       "Index(['Date', 'TimeOfAcc', 'AccLocation', 'NatureAccident',\n",
       "       'ClassificationOfAccident', 'Causes', 'RoadFeature', 'RoadCondition',\n",
       "       'IntersectionTypeControl', 'WeatherCondition', 'VehicleResponsible',\n",
       "       'Fatal', 'Grevious', 'Minor', 'Injured', 'NumAnimalsKilled',\n",
       "       'HelpProvidedByAmbulancePatrol', 'Remarks'],\n",
       "      dtype='object')"
      ]
     },
     "execution_count": 3,
     "metadata": {},
     "output_type": "execute_result"
    }
   ],
   "source": [
    "df.columns"
   ]
  },
  {
   "cell_type": "markdown",
   "id": "e18fc971",
   "metadata": {},
   "source": [
    "# Answer 1"
   ]
  },
  {
   "cell_type": "code",
   "execution_count": 4,
   "id": "a37fbf48",
   "metadata": {},
   "outputs": [],
   "source": [
    "df2 = df.copy()"
   ]
  },
  {
   "cell_type": "code",
   "execution_count": 5,
   "id": "357a83a4",
   "metadata": {},
   "outputs": [],
   "source": [
    "df2 = df2.drop(df2[df2.ClassificationOfAccident == '-'].index)\n",
    "df2.loc[df2.Causes == '-', 'Causes'] = 5\n",
    "df2 = df2.drop(columns=['VehicleResponsible', 'HelpProvidedByAmbulancePatrol', 'Remarks'])"
   ]
  },
  {
   "cell_type": "code",
   "execution_count": 6,
   "id": "958d80d7",
   "metadata": {},
   "outputs": [
    {
     "data": {
      "text/plain": [
       "(83, 15)"
      ]
     },
     "execution_count": 6,
     "metadata": {},
     "output_type": "execute_result"
    }
   ],
   "source": [
    "df2.shape"
   ]
  },
  {
   "cell_type": "code",
   "execution_count": 9,
   "id": "46641404",
   "metadata": {},
   "outputs": [
    {
     "name": "stdout",
     "output_type": "stream",
     "text": [
      "records in 2014 : 33\n",
      "records in 2015 : 50\n"
     ]
    },
    {
     "name": "stderr",
     "output_type": "stream",
     "text": [
      "C:\\Users\\NayanPC\\AppData\\Local\\Programs\\Python\\Python39\\lib\\site-packages\\IPython\\core\\interactiveshell.py:3364: UserWarning: Parsing '30/11/2014' in DD/MM/YYYY format. Provide format or specify infer_datetime_format=True for consistent parsing.\n",
      "  if (await self.run_code(code, result,  async_=asy)):\n",
      "C:\\Users\\NayanPC\\AppData\\Local\\Programs\\Python\\Python39\\lib\\site-packages\\IPython\\core\\interactiveshell.py:3364: UserWarning: Parsing '21/12/2014' in DD/MM/YYYY format. Provide format or specify infer_datetime_format=True for consistent parsing.\n",
      "  if (await self.run_code(code, result,  async_=asy)):\n",
      "C:\\Users\\NayanPC\\AppData\\Local\\Programs\\Python\\Python39\\lib\\site-packages\\IPython\\core\\interactiveshell.py:3364: UserWarning: Parsing '20/10/2015' in DD/MM/YYYY format. Provide format or specify infer_datetime_format=True for consistent parsing.\n",
      "  if (await self.run_code(code, result,  async_=asy)):\n",
      "C:\\Users\\NayanPC\\AppData\\Local\\Programs\\Python\\Python39\\lib\\site-packages\\IPython\\core\\interactiveshell.py:3364: UserWarning: Parsing '18/10/2014' in DD/MM/YYYY format. Provide format or specify infer_datetime_format=True for consistent parsing.\n",
      "  if (await self.run_code(code, result,  async_=asy)):\n",
      "C:\\Users\\NayanPC\\AppData\\Local\\Programs\\Python\\Python39\\lib\\site-packages\\IPython\\core\\interactiveshell.py:3364: UserWarning: Parsing '16/10/2014' in DD/MM/YYYY format. Provide format or specify infer_datetime_format=True for consistent parsing.\n",
      "  if (await self.run_code(code, result,  async_=asy)):\n",
      "C:\\Users\\NayanPC\\AppData\\Local\\Programs\\Python\\Python39\\lib\\site-packages\\IPython\\core\\interactiveshell.py:3364: UserWarning: Parsing '15/10/2015' in DD/MM/YYYY format. Provide format or specify infer_datetime_format=True for consistent parsing.\n",
      "  if (await self.run_code(code, result,  async_=asy)):\n",
      "C:\\Users\\NayanPC\\AppData\\Local\\Programs\\Python\\Python39\\lib\\site-packages\\IPython\\core\\interactiveshell.py:3364: UserWarning: Parsing '15/10/2014' in DD/MM/YYYY format. Provide format or specify infer_datetime_format=True for consistent parsing.\n",
      "  if (await self.run_code(code, result,  async_=asy)):\n",
      "C:\\Users\\NayanPC\\AppData\\Local\\Programs\\Python\\Python39\\lib\\site-packages\\IPython\\core\\interactiveshell.py:3364: UserWarning: Parsing '13/10/2014' in DD/MM/YYYY format. Provide format or specify infer_datetime_format=True for consistent parsing.\n",
      "  if (await self.run_code(code, result,  async_=asy)):\n"
     ]
    }
   ],
   "source": [
    "dates = [pd.Timestamp(x) for x in df2['Date']]\n",
    "df_2014 = df2[np.array(dates) < pd.Timestamp('2015-01-01')]\n",
    "df_2015 = df2[np.array(dates) > pd.Timestamp('2014-12-31')]\n",
    "\n",
    "print(f'records in 2014 : {df_2014.shape[0]}')\n",
    "print(f'records in 2015 : {df_2015.shape[0]}')"
   ]
  },
  {
   "cell_type": "code",
   "execution_count": 10,
   "id": "d868010c",
   "metadata": {},
   "outputs": [],
   "source": [
    "df_2014 = df_2014.drop(columns=['Date', 'TimeOfAcc', 'AccLocation'])\n",
    "df_2015 = df_2015.drop(columns=['Date', 'TimeOfAcc', 'AccLocation'])"
   ]
  },
  {
   "cell_type": "code",
   "execution_count": 11,
   "id": "aeed57da",
   "metadata": {},
   "outputs": [],
   "source": [
    "y_train_2014 = df_2014['ClassificationOfAccident']\n",
    "x_train_2014 = df_2014.drop(columns=['ClassificationOfAccident'])"
   ]
  },
  {
   "cell_type": "code",
   "execution_count": 12,
   "id": "b43de54f",
   "metadata": {},
   "outputs": [],
   "source": [
    "y_test_2015 = df_2015['ClassificationOfAccident']\n",
    "x_test_2015 = df_2015.drop(columns=['ClassificationOfAccident'])"
   ]
  },
  {
   "cell_type": "code",
   "execution_count": 13,
   "id": "4d8aaea4",
   "metadata": {},
   "outputs": [],
   "source": [
    "from sklearn.ensemble import RandomForestClassifier"
   ]
  },
  {
   "cell_type": "code",
   "execution_count": 14,
   "id": "dda0c175",
   "metadata": {},
   "outputs": [],
   "source": [
    "rfc = RandomForestClassifier(\n",
    "    n_estimators=100,\n",
    "    max_depth=12,\n",
    "    oob_score=True,\n",
    "    random_state=0\n",
    ")"
   ]
  },
  {
   "cell_type": "code",
   "execution_count": 15,
   "id": "3b855d14",
   "metadata": {},
   "outputs": [],
   "source": [
    "rfc.fit(x_train_2014, y_train_2014)\n",
    "pred_2014 = rfc.predict(x_train_2014)\n",
    "pred_2015 = rfc.predict(x_test_2015)"
   ]
  },
  {
   "cell_type": "code",
   "execution_count": 16,
   "id": "78c4a0b2",
   "metadata": {},
   "outputs": [],
   "source": [
    "from sklearn.metrics import confusion_matrix, accuracy_score, precision_score, f1_score, recall_score, classification_report"
   ]
  },
  {
   "cell_type": "code",
   "execution_count": 31,
   "id": "c80442e8",
   "metadata": {},
   "outputs": [
    {
     "name": "stdout",
     "output_type": "stream",
     "text": [
      "scores are as follows :-\n",
      "accuracy : 1.0\n",
      "precision : 1.0\n",
      "recall : 1.0\n",
      "f1 score : 1.0\n",
      "classification report :               precision    recall  f1-score   support\n",
      "\n",
      "           1       1.00      1.00      1.00        12\n",
      "           2       1.00      1.00      1.00         8\n",
      "           3       1.00      1.00      1.00         9\n",
      "           4       1.00      1.00      1.00         4\n",
      "\n",
      "    accuracy                           1.00        33\n",
      "   macro avg       1.00      1.00      1.00        33\n",
      "weighted avg       1.00      1.00      1.00        33\n",
      "\n"
     ]
    }
   ],
   "source": [
    "# on training data\n",
    "print('scores are as follows :-')\n",
    "print(f'accuracy : {accuracy_score(y_train_2014, pred_2014)}')\n",
    "print(f\"precision : {precision_score(y_train_2014, pred_2014, average='weighted')}\")\n",
    "print(f\"recall : {recall_score(y_train_2014, pred_2014, average='weighted')}\")\n",
    "print(f\"f1 score : {f1_score(y_train_2014, pred_2014, average='weighted')}\")\n",
    "print(f'classification report : {classification_report(y_train_2014, pred_2014)}')"
   ]
  },
  {
   "cell_type": "code",
   "execution_count": 33,
   "id": "09ce3b3a",
   "metadata": {},
   "outputs": [
    {
     "name": "stdout",
     "output_type": "stream",
     "text": [
      "scores are as follows :-\n",
      "accuracy : 0.62\n",
      "precision : 0.5034784688995215\n",
      "recall : 0.62\n",
      "f1 score : 0.5525396825396826\n",
      "classification report :               precision    recall  f1-score   support\n",
      "\n",
      "           1       0.82      0.90      0.86        10\n",
      "           2       0.58      0.65      0.61        17\n",
      "           3       0.55      0.85      0.67        13\n",
      "           4       0.00      0.00      0.00        10\n",
      "\n",
      "    accuracy                           0.62        50\n",
      "   macro avg       0.49      0.60      0.53        50\n",
      "weighted avg       0.50      0.62      0.55        50\n",
      "\n"
     ]
    },
    {
     "name": "stderr",
     "output_type": "stream",
     "text": [
      "C:\\Users\\NayanPC\\AppData\\Local\\Programs\\Python\\Python39\\lib\\site-packages\\sklearn\\metrics\\_classification.py:1318: UndefinedMetricWarning: Precision is ill-defined and being set to 0.0 in labels with no predicted samples. Use `zero_division` parameter to control this behavior.\n",
      "  _warn_prf(average, modifier, msg_start, len(result))\n",
      "C:\\Users\\NayanPC\\AppData\\Local\\Programs\\Python\\Python39\\lib\\site-packages\\sklearn\\metrics\\_classification.py:1318: UndefinedMetricWarning: Precision and F-score are ill-defined and being set to 0.0 in labels with no predicted samples. Use `zero_division` parameter to control this behavior.\n",
      "  _warn_prf(average, modifier, msg_start, len(result))\n",
      "C:\\Users\\NayanPC\\AppData\\Local\\Programs\\Python\\Python39\\lib\\site-packages\\sklearn\\metrics\\_classification.py:1318: UndefinedMetricWarning: Precision and F-score are ill-defined and being set to 0.0 in labels with no predicted samples. Use `zero_division` parameter to control this behavior.\n",
      "  _warn_prf(average, modifier, msg_start, len(result))\n",
      "C:\\Users\\NayanPC\\AppData\\Local\\Programs\\Python\\Python39\\lib\\site-packages\\sklearn\\metrics\\_classification.py:1318: UndefinedMetricWarning: Precision and F-score are ill-defined and being set to 0.0 in labels with no predicted samples. Use `zero_division` parameter to control this behavior.\n",
      "  _warn_prf(average, modifier, msg_start, len(result))\n"
     ]
    }
   ],
   "source": [
    "# on testing data\n",
    "print('scores are as follows :-')\n",
    "print(f'accuracy : {accuracy_score(y_test_2015, pred_2015)}')\n",
    "print(f\"precision : {precision_score(y_test_2015, pred_2015, average='weighted')}\")\n",
    "print(f\"recall : {recall_score(y_test_2015, pred_2015, average='weighted')}\")\n",
    "print(f\"f1 score : {f1_score(y_test_2015, pred_2015, average='weighted')}\")\n",
    "print(f'classification report : {classification_report(y_test_2015, pred_2015)}')"
   ]
  },
  {
   "cell_type": "markdown",
   "id": "aa5fbc97",
   "metadata": {},
   "source": [
    "Accuracy is 62%"
   ]
  },
  {
   "cell_type": "markdown",
   "id": "bd305c78",
   "metadata": {},
   "source": [
    "# Answer 2"
   ]
  },
  {
   "cell_type": "code",
   "execution_count": 34,
   "id": "27fa8b83",
   "metadata": {},
   "outputs": [],
   "source": [
    "AccLocation = df['AccLocation']\n",
    "AccLocation = AccLocation.dropna()\n",
    "AccLocation = pd.DataFrame([x.replace('+', '.') for x in AccLocation])\n",
    "proneLoc = AccLocation.value_counts()"
   ]
  },
  {
   "cell_type": "code",
   "execution_count": 37,
   "id": "d82d9301",
   "metadata": {},
   "outputs": [
    {
     "data": {
      "text/plain": [
       "<AxesSubplot:title={'center':'Most Prone Accident Locations'}, xlabel='0'>"
      ]
     },
     "execution_count": 37,
     "metadata": {},
     "output_type": "execute_result"
    },
    {
     "data": {
      "image/png": "[encoded data removed]",
      "text/plain": [
       "<Figure size 432x288 with 1 Axes>"
      ]
     },
     "metadata": {
      "needs_background": "light"
     },
     "output_type": "display_data"
    }
   ],
   "source": [
    "proneLoc.head().plot(kind='bar', title='Most Prone Accident Locations', )"
   ]
  },
  {
   "cell_type": "markdown",
   "id": "0aac6453",
   "metadata": {},
   "source": [
    "most prone accident locations are :-\n",
    "1. 109.000 KM RHS\n",
    "2. 126.800 KM RHS\n",
    "3. 138.250 KM RHS\n",
    "4. 126.800 KM LHS\n",
    "5. 18.800 LHS"
   ]
  },
  {
   "cell_type": "code",
   "execution_count": 41,
   "id": "c928daf7",
   "metadata": {},
   "outputs": [
    {
     "data": {
      "text/plain": [
       "109.000 KM RHS    3\n",
       "126.800 KM RHS    3\n",
       "138.250 KM RHS    2\n",
       "126.800 KM LHS    2\n",
       "18.800 LHS        2\n",
       "dtype: int64"
      ]
     },
     "execution_count": 41,
     "metadata": {},
     "output_type": "execute_result"
    }
   ],
   "source": [
    "proneLoc.head()"
   ]
  },
  {
   "cell_type": "markdown",
   "id": "e05ca056",
   "metadata": {},
   "source": [
    "# Answer 3"
   ]
  },
  {
   "cell_type": "code",
   "execution_count": 46,
   "id": "3c246d67",
   "metadata": {},
   "outputs": [
    {
     "data": {
      "text/html": [
       "<div>\n",
       "<style scoped>\n",
       "    .dataframe tbody tr th:only-of-type {\n",
       "        vertical-align: middle;\n",
       "    }\n",
       "\n",
       "    .dataframe tbody tr th {\n",
       "        vertical-align: top;\n",
       "    }\n",
       "\n",
       "    .dataframe thead th {\n",
       "        text-align: right;\n",
       "    }\n",
       "</style>\n",
       "<table border=\"1\" class=\"dataframe\">\n",
       "  <thead>\n",
       "    <tr style=\"text-align: right;\">\n",
       "      <th></th>\n",
       "      <th>Importance</th>\n",
       "    </tr>\n",
       "  </thead>\n",
       "  <tbody>\n",
       "    <tr>\n",
       "      <th>NatureAccident</th>\n",
       "      <td>0.140773</td>\n",
       "    </tr>\n",
       "    <tr>\n",
       "      <th>Causes</th>\n",
       "      <td>0.122761</td>\n",
       "    </tr>\n",
       "    <tr>\n",
       "      <th>RoadFeature</th>\n",
       "      <td>0.054600</td>\n",
       "    </tr>\n",
       "    <tr>\n",
       "      <th>RoadCondition</th>\n",
       "      <td>0.024499</td>\n",
       "    </tr>\n",
       "    <tr>\n",
       "      <th>IntersectionTypeControl</th>\n",
       "      <td>0.064410</td>\n",
       "    </tr>\n",
       "  </tbody>\n",
       "</table>\n",
       "</div>"
      ],
      "text/plain": [
       "                         Importance\n",
       "NatureAccident             0.140773\n",
       "Causes                     0.122761\n",
       "RoadFeature                0.054600\n",
       "RoadCondition              0.024499\n",
       "IntersectionTypeControl    0.064410"
      ]
     },
     "execution_count": 46,
     "metadata": {},
     "output_type": "execute_result"
    }
   ],
   "source": [
    "feature_imp = pd.DataFrame(rfc.feature_importances_, index=x_train_2014.columns, columns=['Importance'])\n",
    "feature_imp.sort_values('Importance')\n",
    "feature_imp.head()"
   ]
  },
  {
   "cell_type": "markdown",
   "id": "05935a03",
   "metadata": {},
   "source": [
    "Top 5 important features are :-\n",
    "1. NatureAccident\n",
    "2. Causes\n",
    "3. RoadFeature\n",
    "4. RoadCondition\n",
    "5. IntersectionTypeControl"
   ]
  },
  {
   "cell_type": "code",
   "execution_count": null,
   "id": "1b7709a0",
   "metadata": {},
   "outputs": [],
   "source": []
  },
  {
   "cell_type": "code",
   "execution_count": null,
   "id": "b443b868",
   "metadata": {},
   "outputs": [],
   "source": []
  }
 ],
 "metadata": {
  "kernelspec": {
   "display_name": "Python 3 (ipykernel)",
   "language": "python",
   "name": "python3"
  },
  "language_info": {
   "codemirror_mode": {
    "name": "ipython",
    "version": 3
   },
   "file_extension": ".py",
   "mimetype": "text/x-python",
   "name": "python",
   "nbconvert_exporter": "python",
   "pygments_lexer": "ipython3",
   "version": "3.9.7"
  }
 },
 "nbformat": 4,
 "nbformat_minor": 5
}
