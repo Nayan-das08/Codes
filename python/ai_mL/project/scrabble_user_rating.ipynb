{
 "cells": [
  {
   "cell_type": "code",
   "execution_count": 1,
   "metadata": {
    "id": "sP-XnKmVww2a"
   },
   "outputs": [],
   "source": [
    "# importing libraries\n",
    "\n",
    "import pandas as pd\n",
    "import matplotlib.pyplot as plt\n",
    "import seaborn as sns\n",
    "import numpy as np"
   ]
  },
  {
   "cell_type": "code",
   "execution_count": 3,
   "metadata": {
    "id": "yQUmSRfmww2p"
   },
   "outputs": [
    {
     "name": "stdout",
     "output_type": "stream",
     "text": [
      "(72773, 12) (2005498, 9) (100820, 4)\n"
     ]
    }
   ],
   "source": [
    "# reading the datasets\n",
    "\n",
    "game=pd.read_csv(r'C:\\programming languages\\Data science\\Assignment-3\\games.csv')\n",
    "turns=pd.read_csv(r'C:\\programming languages\\Data science\\Assignment-3\\turns.csv')\n",
    "train = pd.read_csv(r'C:\\programming languages\\Data science\\Assignment-3\\train.csv')\n",
    "print(game.shape,turns.shape, train.shape)"
   ]
  },
  {
   "cell_type": "markdown",
   "metadata": {},
   "source": [
    "# EXPLORATORY DATA ANALYSIS & DATA PREPROCESSING"
   ]
  },
  {
   "cell_type": "code",
   "execution_count": 4,
   "metadata": {
    "colab": {
     "base_uri": "https://localhost:8080/",
     "height": 357
    },
    "id": "X6K3S8eWww2t",
    "outputId": "f588dd3d-cc6d-4d94-a3b4-4587eaa2cd86"
   },
   "outputs": [
    {
     "data": {
      "text/html": [
       "<div>\n",
       "<style scoped>\n",
       "    .dataframe tbody tr th:only-of-type {\n",
       "        vertical-align: middle;\n",
       "    }\n",
       "\n",
       "    .dataframe tbody tr th {\n",
       "        vertical-align: top;\n",
       "    }\n",
       "\n",
       "    .dataframe thead th {\n",
       "        text-align: right;\n",
       "    }\n",
       "</style>\n",
       "<table border=\"1\" class=\"dataframe\">\n",
       "  <thead>\n",
       "    <tr style=\"text-align: right;\">\n",
       "      <th></th>\n",
       "      <th>game_id</th>\n",
       "      <th>first</th>\n",
       "      <th>time_control_name</th>\n",
       "      <th>game_end_reason</th>\n",
       "      <th>winner</th>\n",
       "      <th>created_at</th>\n",
       "      <th>lexicon</th>\n",
       "      <th>initial_time_seconds</th>\n",
       "      <th>increment_seconds</th>\n",
       "      <th>rating_mode</th>\n",
       "      <th>max_overtime_minutes</th>\n",
       "      <th>game_duration_seconds</th>\n",
       "    </tr>\n",
       "  </thead>\n",
       "  <tbody>\n",
       "    <tr>\n",
       "      <th>0</th>\n",
       "      <td>1</td>\n",
       "      <td>BetterBot</td>\n",
       "      <td>regular</td>\n",
       "      <td>STANDARD</td>\n",
       "      <td>1</td>\n",
       "      <td>2022-08-26 03:38:49</td>\n",
       "      <td>NWL20</td>\n",
       "      <td>1200</td>\n",
       "      <td>0</td>\n",
       "      <td>CASUAL</td>\n",
       "      <td>1</td>\n",
       "      <td>674.844274</td>\n",
       "    </tr>\n",
       "    <tr>\n",
       "      <th>1</th>\n",
       "      <td>2</td>\n",
       "      <td>Super</td>\n",
       "      <td>regular</td>\n",
       "      <td>STANDARD</td>\n",
       "      <td>1</td>\n",
       "      <td>2022-08-10 19:19:59</td>\n",
       "      <td>CSW21</td>\n",
       "      <td>3600</td>\n",
       "      <td>0</td>\n",
       "      <td>RATED</td>\n",
       "      <td>1</td>\n",
       "      <td>364.214418</td>\n",
       "    </tr>\n",
       "    <tr>\n",
       "      <th>2</th>\n",
       "      <td>3</td>\n",
       "      <td>BetterBot</td>\n",
       "      <td>regular</td>\n",
       "      <td>STANDARD</td>\n",
       "      <td>1</td>\n",
       "      <td>2022-09-04 08:04:27</td>\n",
       "      <td>CSW21</td>\n",
       "      <td>900</td>\n",
       "      <td>0</td>\n",
       "      <td>RATED</td>\n",
       "      <td>5</td>\n",
       "      <td>492.268262</td>\n",
       "    </tr>\n",
       "    <tr>\n",
       "      <th>3</th>\n",
       "      <td>4</td>\n",
       "      <td>BetterBot</td>\n",
       "      <td>regular</td>\n",
       "      <td>RESIGNED</td>\n",
       "      <td>0</td>\n",
       "      <td>2022-09-12 02:36:19</td>\n",
       "      <td>CSW21</td>\n",
       "      <td>3600</td>\n",
       "      <td>0</td>\n",
       "      <td>CASUAL</td>\n",
       "      <td>1</td>\n",
       "      <td>350.861141</td>\n",
       "    </tr>\n",
       "    <tr>\n",
       "      <th>4</th>\n",
       "      <td>5</td>\n",
       "      <td>STEEBot</td>\n",
       "      <td>regular</td>\n",
       "      <td>STANDARD</td>\n",
       "      <td>0</td>\n",
       "      <td>2022-09-06 04:31:36</td>\n",
       "      <td>NWL20</td>\n",
       "      <td>1200</td>\n",
       "      <td>0</td>\n",
       "      <td>CASUAL</td>\n",
       "      <td>1</td>\n",
       "      <td>642.688722</td>\n",
       "    </tr>\n",
       "  </tbody>\n",
       "</table>\n",
       "</div>"
      ],
      "text/plain": [
       "   game_id      first time_control_name game_end_reason  winner  \\\n",
       "0        1  BetterBot           regular        STANDARD       1   \n",
       "1        2      Super           regular        STANDARD       1   \n",
       "2        3  BetterBot           regular        STANDARD       1   \n",
       "3        4  BetterBot           regular        RESIGNED       0   \n",
       "4        5    STEEBot           regular        STANDARD       0   \n",
       "\n",
       "            created_at lexicon  initial_time_seconds  increment_seconds  \\\n",
       "0  2022-08-26 03:38:49   NWL20                  1200                  0   \n",
       "1  2022-08-10 19:19:59   CSW21                  3600                  0   \n",
       "2  2022-09-04 08:04:27   CSW21                   900                  0   \n",
       "3  2022-09-12 02:36:19   CSW21                  3600                  0   \n",
       "4  2022-09-06 04:31:36   NWL20                  1200                  0   \n",
       "\n",
       "  rating_mode  max_overtime_minutes  game_duration_seconds  \n",
       "0      CASUAL                     1             674.844274  \n",
       "1       RATED                     1             364.214418  \n",
       "2       RATED                     5             492.268262  \n",
       "3      CASUAL                     1             350.861141  \n",
       "4      CASUAL                     1             642.688722  "
      ]
     },
     "execution_count": 4,
     "metadata": {},
     "output_type": "execute_result"
    }
   ],
   "source": [
    "game.head()"
   ]
  },
  {
   "cell_type": "code",
   "execution_count": 5,
   "metadata": {},
   "outputs": [
    {
     "data": {
      "text/html": [
       "<div>\n",
       "<style scoped>\n",
       "    .dataframe tbody tr th:only-of-type {\n",
       "        vertical-align: middle;\n",
       "    }\n",
       "\n",
       "    .dataframe tbody tr th {\n",
       "        vertical-align: top;\n",
       "    }\n",
       "\n",
       "    .dataframe thead th {\n",
       "        text-align: right;\n",
       "    }\n",
       "</style>\n",
       "<table border=\"1\" class=\"dataframe\">\n",
       "  <thead>\n",
       "    <tr style=\"text-align: right;\">\n",
       "      <th></th>\n",
       "      <th>game_id</th>\n",
       "      <th>turn_number</th>\n",
       "      <th>nickname</th>\n",
       "      <th>rack</th>\n",
       "      <th>location</th>\n",
       "      <th>move</th>\n",
       "      <th>points</th>\n",
       "      <th>score</th>\n",
       "      <th>turn_type</th>\n",
       "    </tr>\n",
       "  </thead>\n",
       "  <tbody>\n",
       "    <tr>\n",
       "      <th>0</th>\n",
       "      <td>1</td>\n",
       "      <td>1</td>\n",
       "      <td>BetterBot</td>\n",
       "      <td>DDEGITT</td>\n",
       "      <td>8G</td>\n",
       "      <td>DIG</td>\n",
       "      <td>10</td>\n",
       "      <td>10</td>\n",
       "      <td>Play</td>\n",
       "    </tr>\n",
       "    <tr>\n",
       "      <th>1</th>\n",
       "      <td>1</td>\n",
       "      <td>2</td>\n",
       "      <td>stevy</td>\n",
       "      <td>AEHOPUX</td>\n",
       "      <td>7H</td>\n",
       "      <td>HAP</td>\n",
       "      <td>18</td>\n",
       "      <td>18</td>\n",
       "      <td>Play</td>\n",
       "    </tr>\n",
       "    <tr>\n",
       "      <th>2</th>\n",
       "      <td>1</td>\n",
       "      <td>3</td>\n",
       "      <td>BetterBot</td>\n",
       "      <td>DEELTTU</td>\n",
       "      <td>6I</td>\n",
       "      <td>LUTE</td>\n",
       "      <td>16</td>\n",
       "      <td>26</td>\n",
       "      <td>Play</td>\n",
       "    </tr>\n",
       "    <tr>\n",
       "      <th>3</th>\n",
       "      <td>1</td>\n",
       "      <td>4</td>\n",
       "      <td>stevy</td>\n",
       "      <td>EMORSUX</td>\n",
       "      <td>5K</td>\n",
       "      <td>UM</td>\n",
       "      <td>16</td>\n",
       "      <td>34</td>\n",
       "      <td>Play</td>\n",
       "    </tr>\n",
       "    <tr>\n",
       "      <th>4</th>\n",
       "      <td>1</td>\n",
       "      <td>5</td>\n",
       "      <td>BetterBot</td>\n",
       "      <td>ACDEITU</td>\n",
       "      <td>L5</td>\n",
       "      <td>..DICATE</td>\n",
       "      <td>28</td>\n",
       "      <td>54</td>\n",
       "      <td>Play</td>\n",
       "    </tr>\n",
       "  </tbody>\n",
       "</table>\n",
       "</div>"
      ],
      "text/plain": [
       "   game_id  turn_number   nickname     rack location      move  points  score  \\\n",
       "0        1            1  BetterBot  DDEGITT       8G       DIG      10     10   \n",
       "1        1            2      stevy  AEHOPUX       7H       HAP      18     18   \n",
       "2        1            3  BetterBot  DEELTTU       6I      LUTE      16     26   \n",
       "3        1            4      stevy  EMORSUX       5K        UM      16     34   \n",
       "4        1            5  BetterBot  ACDEITU       L5  ..DICATE      28     54   \n",
       "\n",
       "  turn_type  \n",
       "0      Play  \n",
       "1      Play  \n",
       "2      Play  \n",
       "3      Play  \n",
       "4      Play  "
      ]
     },
     "execution_count": 5,
     "metadata": {},
     "output_type": "execute_result"
    }
   ],
   "source": [
    "turns.head()"
   ]
  },
  {
   "cell_type": "code",
   "execution_count": 6,
   "metadata": {},
   "outputs": [
    {
     "data": {
      "text/html": [
       "<div>\n",
       "<style scoped>\n",
       "    .dataframe tbody tr th:only-of-type {\n",
       "        vertical-align: middle;\n",
       "    }\n",
       "\n",
       "    .dataframe tbody tr th {\n",
       "        vertical-align: top;\n",
       "    }\n",
       "\n",
       "    .dataframe thead th {\n",
       "        text-align: right;\n",
       "    }\n",
       "</style>\n",
       "<table border=\"1\" class=\"dataframe\">\n",
       "  <thead>\n",
       "    <tr style=\"text-align: right;\">\n",
       "      <th></th>\n",
       "      <th>game_id</th>\n",
       "      <th>nickname</th>\n",
       "      <th>score</th>\n",
       "      <th>rating</th>\n",
       "    </tr>\n",
       "  </thead>\n",
       "  <tbody>\n",
       "    <tr>\n",
       "      <th>0</th>\n",
       "      <td>1</td>\n",
       "      <td>BetterBot</td>\n",
       "      <td>335</td>\n",
       "      <td>1637</td>\n",
       "    </tr>\n",
       "    <tr>\n",
       "      <th>1</th>\n",
       "      <td>1</td>\n",
       "      <td>stevy</td>\n",
       "      <td>429</td>\n",
       "      <td>1500</td>\n",
       "    </tr>\n",
       "    <tr>\n",
       "      <th>2</th>\n",
       "      <td>3</td>\n",
       "      <td>davidavid</td>\n",
       "      <td>440</td>\n",
       "      <td>1811</td>\n",
       "    </tr>\n",
       "    <tr>\n",
       "      <th>3</th>\n",
       "      <td>3</td>\n",
       "      <td>BetterBot</td>\n",
       "      <td>318</td>\n",
       "      <td>2071</td>\n",
       "    </tr>\n",
       "    <tr>\n",
       "      <th>4</th>\n",
       "      <td>4</td>\n",
       "      <td>Inandoutworker</td>\n",
       "      <td>119</td>\n",
       "      <td>1473</td>\n",
       "    </tr>\n",
       "  </tbody>\n",
       "</table>\n",
       "</div>"
      ],
      "text/plain": [
       "   game_id        nickname  score  rating\n",
       "0        1       BetterBot    335    1637\n",
       "1        1           stevy    429    1500\n",
       "2        3       davidavid    440    1811\n",
       "3        3       BetterBot    318    2071\n",
       "4        4  Inandoutworker    119    1473"
      ]
     },
     "execution_count": 6,
     "metadata": {},
     "output_type": "execute_result"
    }
   ],
   "source": [
    "train.head()"
   ]
  },
  {
   "cell_type": "code",
   "execution_count": 7,
   "metadata": {},
   "outputs": [],
   "source": [
    "turns1 = turns.groupby(by='game_id').count()\n",
    "turns1['game_id'] = turns1.index\n",
    "turns1= turns1[['game_id','turn_number']]\n",
    "turns1.index.names = ['index']"
   ]
  },
  {
   "cell_type": "code",
   "execution_count": 8,
   "metadata": {},
   "outputs": [
    {
     "data": {
      "text/html": [
       "<div>\n",
       "<style scoped>\n",
       "    .dataframe tbody tr th:only-of-type {\n",
       "        vertical-align: middle;\n",
       "    }\n",
       "\n",
       "    .dataframe tbody tr th {\n",
       "        vertical-align: top;\n",
       "    }\n",
       "\n",
       "    .dataframe thead th {\n",
       "        text-align: right;\n",
       "    }\n",
       "</style>\n",
       "<table border=\"1\" class=\"dataframe\">\n",
       "  <thead>\n",
       "    <tr style=\"text-align: right;\">\n",
       "      <th></th>\n",
       "      <th>game_id</th>\n",
       "      <th>turn_number</th>\n",
       "    </tr>\n",
       "    <tr>\n",
       "      <th>index</th>\n",
       "      <th></th>\n",
       "      <th></th>\n",
       "    </tr>\n",
       "  </thead>\n",
       "  <tbody>\n",
       "    <tr>\n",
       "      <th>1</th>\n",
       "      <td>1</td>\n",
       "      <td>27</td>\n",
       "    </tr>\n",
       "    <tr>\n",
       "      <th>2</th>\n",
       "      <td>2</td>\n",
       "      <td>26</td>\n",
       "    </tr>\n",
       "    <tr>\n",
       "      <th>3</th>\n",
       "      <td>3</td>\n",
       "      <td>27</td>\n",
       "    </tr>\n",
       "    <tr>\n",
       "      <th>4</th>\n",
       "      <td>4</td>\n",
       "      <td>29</td>\n",
       "    </tr>\n",
       "    <tr>\n",
       "      <th>5</th>\n",
       "      <td>5</td>\n",
       "      <td>31</td>\n",
       "    </tr>\n",
       "  </tbody>\n",
       "</table>\n",
       "</div>"
      ],
      "text/plain": [
       "       game_id  turn_number\n",
       "index                      \n",
       "1            1           27\n",
       "2            2           26\n",
       "3            3           27\n",
       "4            4           29\n",
       "5            5           31"
      ]
     },
     "execution_count": 8,
     "metadata": {},
     "output_type": "execute_result"
    }
   ],
   "source": [
    "turns1.head()"
   ]
  },
  {
   "cell_type": "code",
   "execution_count": 9,
   "metadata": {},
   "outputs": [
    {
     "name": "stdout",
     "output_type": "stream",
     "text": [
      "(50410, 7)\n"
     ]
    }
   ],
   "source": [
    "train1=pd.merge(train.iloc[::2].reset_index(),train.iloc[1::2].reset_index(),on='game_id',how='inner')\n",
    "train1= train1.drop(['index_x','index_y'],axis=1)\n",
    "print(train1.shape)"
   ]
  },
  {
   "cell_type": "code",
   "execution_count": 2,
   "metadata": {},
   "outputs": [
    {
     "ename": "NameError",
     "evalue": "name 'train1' is not defined",
     "output_type": "error",
     "traceback": [
      "\u001b[1;31m---------------------------------------------------------------------------\u001b[0m",
      "\u001b[1;31mNameError\u001b[0m                                 Traceback (most recent call last)",
      "\u001b[1;32m~\\AppData\\Local\\Temp/ipykernel_3264/1704522276.py\u001b[0m in \u001b[0;36m<module>\u001b[1;34m\u001b[0m\n\u001b[1;32m----> 1\u001b[1;33m \u001b[0mtrain1\u001b[0m\u001b[1;33m\u001b[0m\u001b[1;33m\u001b[0m\u001b[0m\n\u001b[0m",
      "\u001b[1;31mNameError\u001b[0m: name 'train1' is not defined"
     ]
    }
   ],
   "source": [
    "train1"
   ]
  },
  {
   "cell_type": "code",
   "execution_count": 10,
   "metadata": {},
   "outputs": [
    {
     "name": "stdout",
     "output_type": "stream",
     "text": [
      "(50410, 19)\n"
     ]
    }
   ],
   "source": [
    "train_merge =pd.merge(train1,game,on='game_id',how='inner')\n",
    "train_merge =pd.merge(train_merge,turns1,on='game_id',how='inner')\n",
    "print(train_merge.shape)\n"
   ]
  },
  {
   "cell_type": "code",
   "execution_count": 11,
   "metadata": {},
   "outputs": [
    {
     "data": {
      "text/html": [
       "<div>\n",
       "<style scoped>\n",
       "    .dataframe tbody tr th:only-of-type {\n",
       "        vertical-align: middle;\n",
       "    }\n",
       "\n",
       "    .dataframe tbody tr th {\n",
       "        vertical-align: top;\n",
       "    }\n",
       "\n",
       "    .dataframe thead th {\n",
       "        text-align: right;\n",
       "    }\n",
       "</style>\n",
       "<table border=\"1\" class=\"dataframe\">\n",
       "  <thead>\n",
       "    <tr style=\"text-align: right;\">\n",
       "      <th></th>\n",
       "      <th>game_id</th>\n",
       "      <th>nickname_x</th>\n",
       "      <th>score_x</th>\n",
       "      <th>rating_x</th>\n",
       "      <th>nickname_y</th>\n",
       "      <th>score_y</th>\n",
       "      <th>rating_y</th>\n",
       "      <th>first</th>\n",
       "      <th>time_control_name</th>\n",
       "      <th>game_end_reason</th>\n",
       "      <th>winner</th>\n",
       "      <th>created_at</th>\n",
       "      <th>lexicon</th>\n",
       "      <th>initial_time_seconds</th>\n",
       "      <th>increment_seconds</th>\n",
       "      <th>rating_mode</th>\n",
       "      <th>max_overtime_minutes</th>\n",
       "      <th>game_duration_seconds</th>\n",
       "      <th>turn_number</th>\n",
       "    </tr>\n",
       "  </thead>\n",
       "  <tbody>\n",
       "    <tr>\n",
       "      <th>0</th>\n",
       "      <td>1</td>\n",
       "      <td>BetterBot</td>\n",
       "      <td>335</td>\n",
       "      <td>1637</td>\n",
       "      <td>stevy</td>\n",
       "      <td>429</td>\n",
       "      <td>1500</td>\n",
       "      <td>BetterBot</td>\n",
       "      <td>regular</td>\n",
       "      <td>STANDARD</td>\n",
       "      <td>1</td>\n",
       "      <td>2022-08-26 03:38:49</td>\n",
       "      <td>NWL20</td>\n",
       "      <td>1200</td>\n",
       "      <td>0</td>\n",
       "      <td>CASUAL</td>\n",
       "      <td>1</td>\n",
       "      <td>674.844274</td>\n",
       "      <td>27</td>\n",
       "    </tr>\n",
       "    <tr>\n",
       "      <th>1</th>\n",
       "      <td>3</td>\n",
       "      <td>davidavid</td>\n",
       "      <td>440</td>\n",
       "      <td>1811</td>\n",
       "      <td>BetterBot</td>\n",
       "      <td>318</td>\n",
       "      <td>2071</td>\n",
       "      <td>BetterBot</td>\n",
       "      <td>regular</td>\n",
       "      <td>STANDARD</td>\n",
       "      <td>1</td>\n",
       "      <td>2022-09-04 08:04:27</td>\n",
       "      <td>CSW21</td>\n",
       "      <td>900</td>\n",
       "      <td>0</td>\n",
       "      <td>RATED</td>\n",
       "      <td>5</td>\n",
       "      <td>492.268262</td>\n",
       "      <td>27</td>\n",
       "    </tr>\n",
       "    <tr>\n",
       "      <th>2</th>\n",
       "      <td>4</td>\n",
       "      <td>Inandoutworker</td>\n",
       "      <td>119</td>\n",
       "      <td>1473</td>\n",
       "      <td>BetterBot</td>\n",
       "      <td>478</td>\n",
       "      <td>1936</td>\n",
       "      <td>BetterBot</td>\n",
       "      <td>regular</td>\n",
       "      <td>RESIGNED</td>\n",
       "      <td>0</td>\n",
       "      <td>2022-09-12 02:36:19</td>\n",
       "      <td>CSW21</td>\n",
       "      <td>3600</td>\n",
       "      <td>0</td>\n",
       "      <td>CASUAL</td>\n",
       "      <td>1</td>\n",
       "      <td>350.861141</td>\n",
       "      <td>29</td>\n",
       "    </tr>\n",
       "    <tr>\n",
       "      <th>3</th>\n",
       "      <td>5</td>\n",
       "      <td>stevy</td>\n",
       "      <td>325</td>\n",
       "      <td>1500</td>\n",
       "      <td>STEEBot</td>\n",
       "      <td>427</td>\n",
       "      <td>1844</td>\n",
       "      <td>STEEBot</td>\n",
       "      <td>regular</td>\n",
       "      <td>STANDARD</td>\n",
       "      <td>0</td>\n",
       "      <td>2022-09-06 04:31:36</td>\n",
       "      <td>NWL20</td>\n",
       "      <td>1200</td>\n",
       "      <td>0</td>\n",
       "      <td>CASUAL</td>\n",
       "      <td>1</td>\n",
       "      <td>642.688722</td>\n",
       "      <td>31</td>\n",
       "    </tr>\n",
       "    <tr>\n",
       "      <th>4</th>\n",
       "      <td>6</td>\n",
       "      <td>HivinD</td>\n",
       "      <td>378</td>\n",
       "      <td>2029</td>\n",
       "      <td>STEEBot</td>\n",
       "      <td>427</td>\n",
       "      <td>2143</td>\n",
       "      <td>HivinD</td>\n",
       "      <td>regular</td>\n",
       "      <td>STANDARD</td>\n",
       "      <td>0</td>\n",
       "      <td>2022-08-21 14:56:35</td>\n",
       "      <td>CSW21</td>\n",
       "      <td>900</td>\n",
       "      <td>0</td>\n",
       "      <td>RATED</td>\n",
       "      <td>1</td>\n",
       "      <td>426.950541</td>\n",
       "      <td>25</td>\n",
       "    </tr>\n",
       "  </tbody>\n",
       "</table>\n",
       "</div>"
      ],
      "text/plain": [
       "   game_id      nickname_x  score_x  rating_x nickname_y  score_y  rating_y  \\\n",
       "0        1       BetterBot      335      1637      stevy      429      1500   \n",
       "1        3       davidavid      440      1811  BetterBot      318      2071   \n",
       "2        4  Inandoutworker      119      1473  BetterBot      478      1936   \n",
       "3        5           stevy      325      1500    STEEBot      427      1844   \n",
       "4        6          HivinD      378      2029    STEEBot      427      2143   \n",
       "\n",
       "       first time_control_name game_end_reason  winner           created_at  \\\n",
       "0  BetterBot           regular        STANDARD       1  2022-08-26 03:38:49   \n",
       "1  BetterBot           regular        STANDARD       1  2022-09-04 08:04:27   \n",
       "2  BetterBot           regular        RESIGNED       0  2022-09-12 02:36:19   \n",
       "3    STEEBot           regular        STANDARD       0  2022-09-06 04:31:36   \n",
       "4     HivinD           regular        STANDARD       0  2022-08-21 14:56:35   \n",
       "\n",
       "  lexicon  initial_time_seconds  increment_seconds rating_mode  \\\n",
       "0   NWL20                  1200                  0      CASUAL   \n",
       "1   CSW21                   900                  0       RATED   \n",
       "2   CSW21                  3600                  0      CASUAL   \n",
       "3   NWL20                  1200                  0      CASUAL   \n",
       "4   CSW21                   900                  0       RATED   \n",
       "\n",
       "   max_overtime_minutes  game_duration_seconds  turn_number  \n",
       "0                     1             674.844274           27  \n",
       "1                     5             492.268262           27  \n",
       "2                     1             350.861141           29  \n",
       "3                     1             642.688722           31  \n",
       "4                     1             426.950541           25  "
      ]
     },
     "execution_count": 11,
     "metadata": {},
     "output_type": "execute_result"
    }
   ],
   "source": [
    "train_merge.head()"
   ]
  },
  {
   "cell_type": "code",
   "execution_count": 12,
   "metadata": {},
   "outputs": [
    {
     "name": "stdout",
     "output_type": "stream",
     "text": [
      "<class 'pandas.core.frame.DataFrame'>\n",
      "Int64Index: 50410 entries, 0 to 50409\n",
      "Data columns (total 19 columns):\n",
      " #   Column                 Non-Null Count  Dtype  \n",
      "---  ------                 --------------  -----  \n",
      " 0   game_id                50410 non-null  int64  \n",
      " 1   nickname_x             50410 non-null  object \n",
      " 2   score_x                50410 non-null  int64  \n",
      " 3   rating_x               50410 non-null  int64  \n",
      " 4   nickname_y             50410 non-null  object \n",
      " 5   score_y                50410 non-null  int64  \n",
      " 6   rating_y               50410 non-null  int64  \n",
      " 7   first                  50410 non-null  object \n",
      " 8   time_control_name      50410 non-null  object \n",
      " 9   game_end_reason        50410 non-null  object \n",
      " 10  winner                 50410 non-null  int64  \n",
      " 11  created_at             50410 non-null  object \n",
      " 12  lexicon                50410 non-null  object \n",
      " 13  initial_time_seconds   50410 non-null  int64  \n",
      " 14  increment_seconds      50410 non-null  int64  \n",
      " 15  rating_mode            50410 non-null  object \n",
      " 16  max_overtime_minutes   50410 non-null  int64  \n",
      " 17  game_duration_seconds  50410 non-null  float64\n",
      " 18  turn_number            50410 non-null  int64  \n",
      "dtypes: float64(1), int64(10), object(8)\n",
      "memory usage: 7.7+ MB\n"
     ]
    }
   ],
   "source": [
    "train_merge.info()"
   ]
  },
  {
   "cell_type": "code",
   "execution_count": 13,
   "metadata": {},
   "outputs": [
    {
     "data": {
      "text/plain": [
       "game_id                  50410\n",
       "nickname_x                 919\n",
       "score_x                    653\n",
       "rating_x                  1161\n",
       "nickname_y                 895\n",
       "score_y                    662\n",
       "rating_y                  1156\n",
       "first                      915\n",
       "time_control_name            4\n",
       "game_end_reason              4\n",
       "winner                       3\n",
       "created_at               50125\n",
       "lexicon                      4\n",
       "initial_time_seconds        34\n",
       "increment_seconds           10\n",
       "rating_mode                  2\n",
       "max_overtime_minutes         8\n",
       "game_duration_seconds    50409\n",
       "turn_number                 42\n",
       "dtype: int64"
      ]
     },
     "execution_count": 13,
     "metadata": {},
     "output_type": "execute_result"
    }
   ],
   "source": [
    "train_merge.nunique()"
   ]
  },
  {
   "cell_type": "code",
   "execution_count": 14,
   "metadata": {},
   "outputs": [],
   "source": [
    "train_merge = train_merge.drop(['created_at'],axis=1)"
   ]
  },
  {
   "cell_type": "code",
   "execution_count": 15,
   "metadata": {
    "colab": {
     "base_uri": "https://localhost:8080/"
    },
    "id": "QWDmR0rEww25",
    "outputId": "e23a5d18-8c48-4938-d6ea-6b4a459a500b"
   },
   "outputs": [
    {
     "name": "stdout",
     "output_type": "stream",
     "text": [
      "<class 'pandas.core.frame.DataFrame'>\n",
      "RangeIndex: 72773 entries, 0 to 72772\n",
      "Data columns (total 12 columns):\n",
      " #   Column                 Non-Null Count  Dtype  \n",
      "---  ------                 --------------  -----  \n",
      " 0   game_id                72773 non-null  int64  \n",
      " 1   first                  72773 non-null  object \n",
      " 2   time_control_name      72773 non-null  object \n",
      " 3   game_end_reason        72773 non-null  object \n",
      " 4   winner                 72773 non-null  int64  \n",
      " 5   created_at             72773 non-null  object \n",
      " 6   lexicon                72773 non-null  object \n",
      " 7   initial_time_seconds   72773 non-null  int64  \n",
      " 8   increment_seconds      72773 non-null  int64  \n",
      " 9   rating_mode            72773 non-null  object \n",
      " 10  max_overtime_minutes   72773 non-null  int64  \n",
      " 11  game_duration_seconds  72773 non-null  float64\n",
      "dtypes: float64(1), int64(5), object(6)\n",
      "memory usage: 6.7+ MB\n"
     ]
    }
   ],
   "source": [
    "game.info()"
   ]
  },
  {
   "cell_type": "code",
   "execution_count": 16,
   "metadata": {
    "colab": {
     "base_uri": "https://localhost:8080/"
    },
    "id": "rp7WVWzJww28",
    "outputId": "fc341c9e-9784-4e21-d24f-102a0b516581"
   },
   "outputs": [
    {
     "data": {
      "text/plain": [
       "array(['regular', 'rapid', 'blitz', 'ultrablitz'], dtype=object)"
      ]
     },
     "execution_count": 16,
     "metadata": {},
     "output_type": "execute_result"
    }
   ],
   "source": [
    "game.time_control_name.unique()"
   ]
  },
  {
   "cell_type": "code",
   "execution_count": 17,
   "metadata": {
    "colab": {
     "base_uri": "https://localhost:8080/"
    },
    "id": "kDnb_caBww3A",
    "outputId": "3afa95e8-8caf-4b5c-b3e8-cd65ed1a8f50"
   },
   "outputs": [
    {
     "data": {
      "text/plain": [
       "array(['NWL20', 'CSW21', 'ECWL', 'NSWL20'], dtype=object)"
      ]
     },
     "execution_count": 17,
     "metadata": {},
     "output_type": "execute_result"
    }
   ],
   "source": [
    "game.lexicon.unique()"
   ]
  },
  {
   "cell_type": "code",
   "execution_count": 18,
   "metadata": {
    "colab": {
     "base_uri": "https://localhost:8080/",
     "height": 280
    },
    "id": "H3bOQcEtww3C",
    "outputId": "6f20c20e-17e6-4e98-a637-d564e24a673b"
   },
   "outputs": [
    {
     "data": {
      "image/png": "[encoded data removed]",
      "text/plain": [
       "<Figure size 432x288 with 1 Axes>"
      ]
     },
     "metadata": {
      "needs_background": "light"
     },
     "output_type": "display_data"
    }
   ],
   "source": [
    "#game end reason vs rating mode\n",
    "\n",
    "sns.countplot(x='rating_mode',hue='game_end_reason',data=game)\n",
    "plt.show()"
   ]
  },
  {
   "cell_type": "code",
   "execution_count": 19,
   "metadata": {
    "colab": {
     "base_uri": "https://localhost:8080/",
     "height": 298
    },
    "id": "i3NZluFzww3G",
    "outputId": "980005fc-7ac3-4cf9-d8ba-ef227c618836"
   },
   "outputs": [
    {
     "data": {
      "text/plain": [
       "<AxesSubplot:xlabel='time_control_name', ylabel='count'>"
      ]
     },
     "execution_count": 19,
     "metadata": {},
     "output_type": "execute_result"
    },
    {
     "data": {
      "image/png": "[encoded data removed]",
      "text/plain": [
       "<Figure size 432x288 with 1 Axes>"
      ]
     },
     "metadata": {
      "needs_background": "light"
     },
     "output_type": "display_data"
    }
   ],
   "source": [
    "#game end reason vs time control name\n",
    "\n",
    "sns.countplot(x='time_control_name',hue='game_end_reason',data=game)"
   ]
  },
  {
   "cell_type": "markdown",
   "metadata": {
    "id": "nnhfQMEgww3I"
   },
   "source": [
    "SO, game dataset shows some characteristics like:\n",
    "\n",
    "1. The game end reason was majority of the time because of the standard game play(win/loss)\n",
    "2. The game end reason was minority of the time because of the consecutive zeros\n",
    "3. In rated games apart from standard, time played a major role in determining the game end reason"
   ]
  },
  {
   "cell_type": "code",
   "execution_count": 20,
   "metadata": {
    "colab": {
     "base_uri": "https://localhost:8080/"
    },
    "id": "pYTJ7Zvtww3L",
    "outputId": "4051229e-c9e6-4014-d3ce-2e149e46a0f9"
   },
   "outputs": [
    {
     "name": "stdout",
     "output_type": "stream",
     "text": [
      "<class 'pandas.core.frame.DataFrame'>\n",
      "RangeIndex: 2005498 entries, 0 to 2005497\n",
      "Data columns (total 9 columns):\n",
      " #   Column       Dtype \n",
      "---  ------       ----- \n",
      " 0   game_id      int64 \n",
      " 1   turn_number  int64 \n",
      " 2   nickname     object\n",
      " 3   rack         object\n",
      " 4   location     object\n",
      " 5   move         object\n",
      " 6   points       int64 \n",
      " 7   score        int64 \n",
      " 8   turn_type    object\n",
      "dtypes: int64(4), object(5)\n",
      "memory usage: 137.7+ MB\n"
     ]
    }
   ],
   "source": [
    "turns.info()"
   ]
  },
  {
   "cell_type": "code",
   "execution_count": 21,
   "metadata": {
    "colab": {
     "base_uri": "https://localhost:8080/"
    },
    "id": "h9kaaOlEww3N",
    "outputId": "b211a153-09a5-4637-be85-91992ba8f5f4"
   },
   "outputs": [
    {
     "data": {
      "text/plain": [
       "game_id             0\n",
       "turn_number         0\n",
       "nickname            0\n",
       "rack            69390\n",
       "location       132239\n",
       "move              454\n",
       "points              0\n",
       "score               0\n",
       "turn_type         395\n",
       "dtype: int64"
      ]
     },
     "execution_count": 21,
     "metadata": {},
     "output_type": "execute_result"
    }
   ],
   "source": [
    "turns.isna().sum()"
   ]
  },
  {
   "cell_type": "code",
   "execution_count": 22,
   "metadata": {
    "colab": {
     "base_uri": "https://localhost:8080/",
     "height": 211
    },
    "id": "kZJcYOn8ww3P",
    "outputId": "9e323692-4197-4886-b68a-010926235f84"
   },
   "outputs": [
    {
     "data": {
      "text/html": [
       "<div>\n",
       "<style scoped>\n",
       "    .dataframe tbody tr th:only-of-type {\n",
       "        vertical-align: middle;\n",
       "    }\n",
       "\n",
       "    .dataframe tbody tr th {\n",
       "        vertical-align: top;\n",
       "    }\n",
       "\n",
       "    .dataframe thead th {\n",
       "        text-align: right;\n",
       "    }\n",
       "</style>\n",
       "<table border=\"1\" class=\"dataframe\">\n",
       "  <thead>\n",
       "    <tr style=\"text-align: right;\">\n",
       "      <th></th>\n",
       "      <th>game_id</th>\n",
       "      <th>first</th>\n",
       "      <th>time_control_name</th>\n",
       "      <th>game_end_reason</th>\n",
       "      <th>winner</th>\n",
       "      <th>created_at</th>\n",
       "      <th>lexicon</th>\n",
       "      <th>initial_time_seconds</th>\n",
       "      <th>increment_seconds</th>\n",
       "      <th>rating_mode</th>\n",
       "      <th>max_overtime_minutes</th>\n",
       "      <th>game_duration_seconds</th>\n",
       "      <th>turn_number</th>\n",
       "      <th>nickname</th>\n",
       "      <th>rack</th>\n",
       "      <th>location</th>\n",
       "      <th>move</th>\n",
       "      <th>points</th>\n",
       "      <th>score</th>\n",
       "      <th>turn_type</th>\n",
       "    </tr>\n",
       "  </thead>\n",
       "  <tbody>\n",
       "    <tr>\n",
       "      <th>0</th>\n",
       "      <td>1</td>\n",
       "      <td>BetterBot</td>\n",
       "      <td>regular</td>\n",
       "      <td>STANDARD</td>\n",
       "      <td>1</td>\n",
       "      <td>2022-08-26 03:38:49</td>\n",
       "      <td>NWL20</td>\n",
       "      <td>1200</td>\n",
       "      <td>0</td>\n",
       "      <td>CASUAL</td>\n",
       "      <td>1</td>\n",
       "      <td>674.844274</td>\n",
       "      <td>1</td>\n",
       "      <td>BetterBot</td>\n",
       "      <td>DDEGITT</td>\n",
       "      <td>8G</td>\n",
       "      <td>DIG</td>\n",
       "      <td>10</td>\n",
       "      <td>10</td>\n",
       "      <td>Play</td>\n",
       "    </tr>\n",
       "    <tr>\n",
       "      <th>1</th>\n",
       "      <td>1</td>\n",
       "      <td>BetterBot</td>\n",
       "      <td>regular</td>\n",
       "      <td>STANDARD</td>\n",
       "      <td>1</td>\n",
       "      <td>2022-08-26 03:38:49</td>\n",
       "      <td>NWL20</td>\n",
       "      <td>1200</td>\n",
       "      <td>0</td>\n",
       "      <td>CASUAL</td>\n",
       "      <td>1</td>\n",
       "      <td>674.844274</td>\n",
       "      <td>2</td>\n",
       "      <td>stevy</td>\n",
       "      <td>AEHOPUX</td>\n",
       "      <td>7H</td>\n",
       "      <td>HAP</td>\n",
       "      <td>18</td>\n",
       "      <td>18</td>\n",
       "      <td>Play</td>\n",
       "    </tr>\n",
       "    <tr>\n",
       "      <th>2</th>\n",
       "      <td>1</td>\n",
       "      <td>BetterBot</td>\n",
       "      <td>regular</td>\n",
       "      <td>STANDARD</td>\n",
       "      <td>1</td>\n",
       "      <td>2022-08-26 03:38:49</td>\n",
       "      <td>NWL20</td>\n",
       "      <td>1200</td>\n",
       "      <td>0</td>\n",
       "      <td>CASUAL</td>\n",
       "      <td>1</td>\n",
       "      <td>674.844274</td>\n",
       "      <td>3</td>\n",
       "      <td>BetterBot</td>\n",
       "      <td>DEELTTU</td>\n",
       "      <td>6I</td>\n",
       "      <td>LUTE</td>\n",
       "      <td>16</td>\n",
       "      <td>26</td>\n",
       "      <td>Play</td>\n",
       "    </tr>\n",
       "    <tr>\n",
       "      <th>3</th>\n",
       "      <td>1</td>\n",
       "      <td>BetterBot</td>\n",
       "      <td>regular</td>\n",
       "      <td>STANDARD</td>\n",
       "      <td>1</td>\n",
       "      <td>2022-08-26 03:38:49</td>\n",
       "      <td>NWL20</td>\n",
       "      <td>1200</td>\n",
       "      <td>0</td>\n",
       "      <td>CASUAL</td>\n",
       "      <td>1</td>\n",
       "      <td>674.844274</td>\n",
       "      <td>4</td>\n",
       "      <td>stevy</td>\n",
       "      <td>EMORSUX</td>\n",
       "      <td>5K</td>\n",
       "      <td>UM</td>\n",
       "      <td>16</td>\n",
       "      <td>34</td>\n",
       "      <td>Play</td>\n",
       "    </tr>\n",
       "    <tr>\n",
       "      <th>4</th>\n",
       "      <td>1</td>\n",
       "      <td>BetterBot</td>\n",
       "      <td>regular</td>\n",
       "      <td>STANDARD</td>\n",
       "      <td>1</td>\n",
       "      <td>2022-08-26 03:38:49</td>\n",
       "      <td>NWL20</td>\n",
       "      <td>1200</td>\n",
       "      <td>0</td>\n",
       "      <td>CASUAL</td>\n",
       "      <td>1</td>\n",
       "      <td>674.844274</td>\n",
       "      <td>5</td>\n",
       "      <td>BetterBot</td>\n",
       "      <td>ACDEITU</td>\n",
       "      <td>L5</td>\n",
       "      <td>..DICATE</td>\n",
       "      <td>28</td>\n",
       "      <td>54</td>\n",
       "      <td>Play</td>\n",
       "    </tr>\n",
       "    <tr>\n",
       "      <th>5</th>\n",
       "      <td>1</td>\n",
       "      <td>BetterBot</td>\n",
       "      <td>regular</td>\n",
       "      <td>STANDARD</td>\n",
       "      <td>1</td>\n",
       "      <td>2022-08-26 03:38:49</td>\n",
       "      <td>NWL20</td>\n",
       "      <td>1200</td>\n",
       "      <td>0</td>\n",
       "      <td>CASUAL</td>\n",
       "      <td>1</td>\n",
       "      <td>674.844274</td>\n",
       "      <td>6</td>\n",
       "      <td>stevy</td>\n",
       "      <td>EEOORSX</td>\n",
       "      <td>M11</td>\n",
       "      <td>OXO</td>\n",
       "      <td>31</td>\n",
       "      <td>65</td>\n",
       "      <td>Play</td>\n",
       "    </tr>\n",
       "    <tr>\n",
       "      <th>6</th>\n",
       "      <td>1</td>\n",
       "      <td>BetterBot</td>\n",
       "      <td>regular</td>\n",
       "      <td>STANDARD</td>\n",
       "      <td>1</td>\n",
       "      <td>2022-08-26 03:38:49</td>\n",
       "      <td>NWL20</td>\n",
       "      <td>1200</td>\n",
       "      <td>0</td>\n",
       "      <td>CASUAL</td>\n",
       "      <td>1</td>\n",
       "      <td>674.844274</td>\n",
       "      <td>7</td>\n",
       "      <td>BetterBot</td>\n",
       "      <td>AAEJRSU</td>\n",
       "      <td>5E</td>\n",
       "      <td>RAJAS</td>\n",
       "      <td>29</td>\n",
       "      <td>83</td>\n",
       "      <td>Play</td>\n",
       "    </tr>\n",
       "    <tr>\n",
       "      <th>7</th>\n",
       "      <td>1</td>\n",
       "      <td>BetterBot</td>\n",
       "      <td>regular</td>\n",
       "      <td>STANDARD</td>\n",
       "      <td>1</td>\n",
       "      <td>2022-08-26 03:38:49</td>\n",
       "      <td>NWL20</td>\n",
       "      <td>1200</td>\n",
       "      <td>0</td>\n",
       "      <td>CASUAL</td>\n",
       "      <td>1</td>\n",
       "      <td>674.844274</td>\n",
       "      <td>8</td>\n",
       "      <td>stevy</td>\n",
       "      <td>AEEFIRS</td>\n",
       "      <td>9B</td>\n",
       "      <td>FAERIES</td>\n",
       "      <td>72</td>\n",
       "      <td>137</td>\n",
       "      <td>Play</td>\n",
       "    </tr>\n",
       "    <tr>\n",
       "      <th>8</th>\n",
       "      <td>1</td>\n",
       "      <td>BetterBot</td>\n",
       "      <td>regular</td>\n",
       "      <td>STANDARD</td>\n",
       "      <td>1</td>\n",
       "      <td>2022-08-26 03:38:49</td>\n",
       "      <td>NWL20</td>\n",
       "      <td>1200</td>\n",
       "      <td>0</td>\n",
       "      <td>CASUAL</td>\n",
       "      <td>1</td>\n",
       "      <td>674.844274</td>\n",
       "      <td>9</td>\n",
       "      <td>BetterBot</td>\n",
       "      <td>ELNNORU</td>\n",
       "      <td>C3</td>\n",
       "      <td>NEURON.L</td>\n",
       "      <td>68</td>\n",
       "      <td>151</td>\n",
       "      <td>Play</td>\n",
       "    </tr>\n",
       "    <tr>\n",
       "      <th>9</th>\n",
       "      <td>1</td>\n",
       "      <td>BetterBot</td>\n",
       "      <td>regular</td>\n",
       "      <td>STANDARD</td>\n",
       "      <td>1</td>\n",
       "      <td>2022-08-26 03:38:49</td>\n",
       "      <td>NWL20</td>\n",
       "      <td>1200</td>\n",
       "      <td>0</td>\n",
       "      <td>CASUAL</td>\n",
       "      <td>1</td>\n",
       "      <td>674.844274</td>\n",
       "      <td>10</td>\n",
       "      <td>stevy</td>\n",
       "      <td>EEEHIKO</td>\n",
       "      <td>6F</td>\n",
       "      <td>HO</td>\n",
       "      <td>35</td>\n",
       "      <td>172</td>\n",
       "      <td>Play</td>\n",
       "    </tr>\n",
       "  </tbody>\n",
       "</table>\n",
       "</div>"
      ],
      "text/plain": [
       "   game_id      first time_control_name game_end_reason  winner  \\\n",
       "0        1  BetterBot           regular        STANDARD       1   \n",
       "1        1  BetterBot           regular        STANDARD       1   \n",
       "2        1  BetterBot           regular        STANDARD       1   \n",
       "3        1  BetterBot           regular        STANDARD       1   \n",
       "4        1  BetterBot           regular        STANDARD       1   \n",
       "5        1  BetterBot           regular        STANDARD       1   \n",
       "6        1  BetterBot           regular        STANDARD       1   \n",
       "7        1  BetterBot           regular        STANDARD       1   \n",
       "8        1  BetterBot           regular        STANDARD       1   \n",
       "9        1  BetterBot           regular        STANDARD       1   \n",
       "\n",
       "            created_at lexicon  initial_time_seconds  increment_seconds  \\\n",
       "0  2022-08-26 03:38:49   NWL20                  1200                  0   \n",
       "1  2022-08-26 03:38:49   NWL20                  1200                  0   \n",
       "2  2022-08-26 03:38:49   NWL20                  1200                  0   \n",
       "3  2022-08-26 03:38:49   NWL20                  1200                  0   \n",
       "4  2022-08-26 03:38:49   NWL20                  1200                  0   \n",
       "5  2022-08-26 03:38:49   NWL20                  1200                  0   \n",
       "6  2022-08-26 03:38:49   NWL20                  1200                  0   \n",
       "7  2022-08-26 03:38:49   NWL20                  1200                  0   \n",
       "8  2022-08-26 03:38:49   NWL20                  1200                  0   \n",
       "9  2022-08-26 03:38:49   NWL20                  1200                  0   \n",
       "\n",
       "  rating_mode  max_overtime_minutes  game_duration_seconds  turn_number  \\\n",
       "0      CASUAL                     1             674.844274            1   \n",
       "1      CASUAL                     1             674.844274            2   \n",
       "2      CASUAL                     1             674.844274            3   \n",
       "3      CASUAL                     1             674.844274            4   \n",
       "4      CASUAL                     1             674.844274            5   \n",
       "5      CASUAL                     1             674.844274            6   \n",
       "6      CASUAL                     1             674.844274            7   \n",
       "7      CASUAL                     1             674.844274            8   \n",
       "8      CASUAL                     1             674.844274            9   \n",
       "9      CASUAL                     1             674.844274           10   \n",
       "\n",
       "    nickname     rack location      move  points  score turn_type  \n",
       "0  BetterBot  DDEGITT       8G       DIG      10     10      Play  \n",
       "1      stevy  AEHOPUX       7H       HAP      18     18      Play  \n",
       "2  BetterBot  DEELTTU       6I      LUTE      16     26      Play  \n",
       "3      stevy  EMORSUX       5K        UM      16     34      Play  \n",
       "4  BetterBot  ACDEITU       L5  ..DICATE      28     54      Play  \n",
       "5      stevy  EEOORSX      M11       OXO      31     65      Play  \n",
       "6  BetterBot  AAEJRSU       5E     RAJAS      29     83      Play  \n",
       "7      stevy  AEEFIRS       9B   FAERIES      72    137      Play  \n",
       "8  BetterBot  ELNNORU       C3  NEURON.L      68    151      Play  \n",
       "9      stevy  EEEHIKO       6F        HO      35    172      Play  "
      ]
     },
     "execution_count": 22,
     "metadata": {},
     "output_type": "execute_result"
    }
   ],
   "source": [
    "merge1=pd.merge(game,turns,on='game_id',how='inner')\n",
    "merge1.head(10)"
   ]
  },
  {
   "cell_type": "code",
   "execution_count": 23,
   "metadata": {
    "colab": {
     "base_uri": "https://localhost:8080/"
    },
    "id": "yPJHftNrww3R",
    "outputId": "6d57e79b-3483-4b63-d81e-1080a4028593"
   },
   "outputs": [
    {
     "data": {
      "text/plain": [
       "(2005498, 20)"
      ]
     },
     "execution_count": 23,
     "metadata": {},
     "output_type": "execute_result"
    }
   ],
   "source": [
    "merge1.shape"
   ]
  },
  {
   "cell_type": "markdown",
   "metadata": {
    "id": "jR8J62kZww3S"
   },
   "source": [
    "Lets get our training data incorporated for further analysis"
   ]
  },
  {
   "cell_type": "code",
   "execution_count": 26,
   "metadata": {
    "id": "La2oDUbLww3U"
   },
   "outputs": [],
   "source": [
    "train=pd.read_csv(r\"C:\\programming languages\\Data science\\Assignment-3\\train.csv\")"
   ]
  },
  {
   "cell_type": "code",
   "execution_count": 27,
   "metadata": {
    "id": "GmfPFjthww3U"
   },
   "outputs": [],
   "source": [
    "master=pd.merge(merge1,train,on='game_id',how='inner')"
   ]
  },
  {
   "cell_type": "code",
   "execution_count": 28,
   "metadata": {
    "colab": {
     "base_uri": "https://localhost:8080/",
     "height": 661
    },
    "id": "FDU39x5iww3W",
    "outputId": "4d3f60f0-c0c3-43c3-bcfa-179fc34730b8"
   },
   "outputs": [
    {
     "data": {
      "text/html": [
       "<div>\n",
       "<style scoped>\n",
       "    .dataframe tbody tr th:only-of-type {\n",
       "        vertical-align: middle;\n",
       "    }\n",
       "\n",
       "    .dataframe tbody tr th {\n",
       "        vertical-align: top;\n",
       "    }\n",
       "\n",
       "    .dataframe thead th {\n",
       "        text-align: right;\n",
       "    }\n",
       "</style>\n",
       "<table border=\"1\" class=\"dataframe\">\n",
       "  <thead>\n",
       "    <tr style=\"text-align: right;\">\n",
       "      <th></th>\n",
       "      <th>game_id</th>\n",
       "      <th>first</th>\n",
       "      <th>time_control_name</th>\n",
       "      <th>game_end_reason</th>\n",
       "      <th>winner</th>\n",
       "      <th>created_at</th>\n",
       "      <th>lexicon</th>\n",
       "      <th>initial_time_seconds</th>\n",
       "      <th>increment_seconds</th>\n",
       "      <th>rating_mode</th>\n",
       "      <th>...</th>\n",
       "      <th>nickname_x</th>\n",
       "      <th>rack</th>\n",
       "      <th>location</th>\n",
       "      <th>move</th>\n",
       "      <th>points</th>\n",
       "      <th>score_x</th>\n",
       "      <th>turn_type</th>\n",
       "      <th>nickname_y</th>\n",
       "      <th>score_y</th>\n",
       "      <th>rating</th>\n",
       "    </tr>\n",
       "  </thead>\n",
       "  <tbody>\n",
       "    <tr>\n",
       "      <th>0</th>\n",
       "      <td>1</td>\n",
       "      <td>BetterBot</td>\n",
       "      <td>regular</td>\n",
       "      <td>STANDARD</td>\n",
       "      <td>1</td>\n",
       "      <td>2022-08-26 03:38:49</td>\n",
       "      <td>NWL20</td>\n",
       "      <td>1200</td>\n",
       "      <td>0</td>\n",
       "      <td>CASUAL</td>\n",
       "      <td>...</td>\n",
       "      <td>BetterBot</td>\n",
       "      <td>DDEGITT</td>\n",
       "      <td>8G</td>\n",
       "      <td>DIG</td>\n",
       "      <td>10</td>\n",
       "      <td>10</td>\n",
       "      <td>Play</td>\n",
       "      <td>BetterBot</td>\n",
       "      <td>335</td>\n",
       "      <td>1637</td>\n",
       "    </tr>\n",
       "    <tr>\n",
       "      <th>1</th>\n",
       "      <td>1</td>\n",
       "      <td>BetterBot</td>\n",
       "      <td>regular</td>\n",
       "      <td>STANDARD</td>\n",
       "      <td>1</td>\n",
       "      <td>2022-08-26 03:38:49</td>\n",
       "      <td>NWL20</td>\n",
       "      <td>1200</td>\n",
       "      <td>0</td>\n",
       "      <td>CASUAL</td>\n",
       "      <td>...</td>\n",
       "      <td>BetterBot</td>\n",
       "      <td>DDEGITT</td>\n",
       "      <td>8G</td>\n",
       "      <td>DIG</td>\n",
       "      <td>10</td>\n",
       "      <td>10</td>\n",
       "      <td>Play</td>\n",
       "      <td>stevy</td>\n",
       "      <td>429</td>\n",
       "      <td>1500</td>\n",
       "    </tr>\n",
       "    <tr>\n",
       "      <th>2</th>\n",
       "      <td>1</td>\n",
       "      <td>BetterBot</td>\n",
       "      <td>regular</td>\n",
       "      <td>STANDARD</td>\n",
       "      <td>1</td>\n",
       "      <td>2022-08-26 03:38:49</td>\n",
       "      <td>NWL20</td>\n",
       "      <td>1200</td>\n",
       "      <td>0</td>\n",
       "      <td>CASUAL</td>\n",
       "      <td>...</td>\n",
       "      <td>stevy</td>\n",
       "      <td>AEHOPUX</td>\n",
       "      <td>7H</td>\n",
       "      <td>HAP</td>\n",
       "      <td>18</td>\n",
       "      <td>18</td>\n",
       "      <td>Play</td>\n",
       "      <td>BetterBot</td>\n",
       "      <td>335</td>\n",
       "      <td>1637</td>\n",
       "    </tr>\n",
       "    <tr>\n",
       "      <th>3</th>\n",
       "      <td>1</td>\n",
       "      <td>BetterBot</td>\n",
       "      <td>regular</td>\n",
       "      <td>STANDARD</td>\n",
       "      <td>1</td>\n",
       "      <td>2022-08-26 03:38:49</td>\n",
       "      <td>NWL20</td>\n",
       "      <td>1200</td>\n",
       "      <td>0</td>\n",
       "      <td>CASUAL</td>\n",
       "      <td>...</td>\n",
       "      <td>stevy</td>\n",
       "      <td>AEHOPUX</td>\n",
       "      <td>7H</td>\n",
       "      <td>HAP</td>\n",
       "      <td>18</td>\n",
       "      <td>18</td>\n",
       "      <td>Play</td>\n",
       "      <td>stevy</td>\n",
       "      <td>429</td>\n",
       "      <td>1500</td>\n",
       "    </tr>\n",
       "    <tr>\n",
       "      <th>4</th>\n",
       "      <td>1</td>\n",
       "      <td>BetterBot</td>\n",
       "      <td>regular</td>\n",
       "      <td>STANDARD</td>\n",
       "      <td>1</td>\n",
       "      <td>2022-08-26 03:38:49</td>\n",
       "      <td>NWL20</td>\n",
       "      <td>1200</td>\n",
       "      <td>0</td>\n",
       "      <td>CASUAL</td>\n",
       "      <td>...</td>\n",
       "      <td>BetterBot</td>\n",
       "      <td>DEELTTU</td>\n",
       "      <td>6I</td>\n",
       "      <td>LUTE</td>\n",
       "      <td>16</td>\n",
       "      <td>26</td>\n",
       "      <td>Play</td>\n",
       "      <td>BetterBot</td>\n",
       "      <td>335</td>\n",
       "      <td>1637</td>\n",
       "    </tr>\n",
       "    <tr>\n",
       "      <th>...</th>\n",
       "      <td>...</td>\n",
       "      <td>...</td>\n",
       "      <td>...</td>\n",
       "      <td>...</td>\n",
       "      <td>...</td>\n",
       "      <td>...</td>\n",
       "      <td>...</td>\n",
       "      <td>...</td>\n",
       "      <td>...</td>\n",
       "      <td>...</td>\n",
       "      <td>...</td>\n",
       "      <td>...</td>\n",
       "      <td>...</td>\n",
       "      <td>...</td>\n",
       "      <td>...</td>\n",
       "      <td>...</td>\n",
       "      <td>...</td>\n",
       "      <td>...</td>\n",
       "      <td>...</td>\n",
       "      <td>...</td>\n",
       "      <td>...</td>\n",
       "    </tr>\n",
       "    <tr>\n",
       "      <th>2782573</th>\n",
       "      <td>72773</td>\n",
       "      <td>HastyBot</td>\n",
       "      <td>regular</td>\n",
       "      <td>STANDARD</td>\n",
       "      <td>1</td>\n",
       "      <td>2022-08-27 09:13:08</td>\n",
       "      <td>CSW21</td>\n",
       "      <td>1200</td>\n",
       "      <td>0</td>\n",
       "      <td>RATED</td>\n",
       "      <td>...</td>\n",
       "      <td>adola</td>\n",
       "      <td>ABRRU</td>\n",
       "      <td>15E</td>\n",
       "      <td>BRA.</td>\n",
       "      <td>7</td>\n",
       "      <td>383</td>\n",
       "      <td>Play</td>\n",
       "      <td>HastyBot</td>\n",
       "      <td>346</td>\n",
       "      <td>2302</td>\n",
       "    </tr>\n",
       "    <tr>\n",
       "      <th>2782574</th>\n",
       "      <td>72773</td>\n",
       "      <td>HastyBot</td>\n",
       "      <td>regular</td>\n",
       "      <td>STANDARD</td>\n",
       "      <td>1</td>\n",
       "      <td>2022-08-27 09:13:08</td>\n",
       "      <td>CSW21</td>\n",
       "      <td>1200</td>\n",
       "      <td>0</td>\n",
       "      <td>RATED</td>\n",
       "      <td>...</td>\n",
       "      <td>HastyBot</td>\n",
       "      <td>EIP</td>\n",
       "      <td>7A</td>\n",
       "      <td>PIE</td>\n",
       "      <td>11</td>\n",
       "      <td>342</td>\n",
       "      <td>Play</td>\n",
       "      <td>adola</td>\n",
       "      <td>383</td>\n",
       "      <td>2075</td>\n",
       "    </tr>\n",
       "    <tr>\n",
       "      <th>2782575</th>\n",
       "      <td>72773</td>\n",
       "      <td>HastyBot</td>\n",
       "      <td>regular</td>\n",
       "      <td>STANDARD</td>\n",
       "      <td>1</td>\n",
       "      <td>2022-08-27 09:13:08</td>\n",
       "      <td>CSW21</td>\n",
       "      <td>1200</td>\n",
       "      <td>0</td>\n",
       "      <td>RATED</td>\n",
       "      <td>...</td>\n",
       "      <td>HastyBot</td>\n",
       "      <td>EIP</td>\n",
       "      <td>7A</td>\n",
       "      <td>PIE</td>\n",
       "      <td>11</td>\n",
       "      <td>342</td>\n",
       "      <td>Play</td>\n",
       "      <td>HastyBot</td>\n",
       "      <td>346</td>\n",
       "      <td>2302</td>\n",
       "    </tr>\n",
       "    <tr>\n",
       "      <th>2782576</th>\n",
       "      <td>72773</td>\n",
       "      <td>HastyBot</td>\n",
       "      <td>regular</td>\n",
       "      <td>STANDARD</td>\n",
       "      <td>1</td>\n",
       "      <td>2022-08-27 09:13:08</td>\n",
       "      <td>CSW21</td>\n",
       "      <td>1200</td>\n",
       "      <td>0</td>\n",
       "      <td>RATED</td>\n",
       "      <td>...</td>\n",
       "      <td>HastyBot</td>\n",
       "      <td>NaN</td>\n",
       "      <td>NaN</td>\n",
       "      <td>(RU)</td>\n",
       "      <td>4</td>\n",
       "      <td>346</td>\n",
       "      <td>End</td>\n",
       "      <td>adola</td>\n",
       "      <td>383</td>\n",
       "      <td>2075</td>\n",
       "    </tr>\n",
       "    <tr>\n",
       "      <th>2782577</th>\n",
       "      <td>72773</td>\n",
       "      <td>HastyBot</td>\n",
       "      <td>regular</td>\n",
       "      <td>STANDARD</td>\n",
       "      <td>1</td>\n",
       "      <td>2022-08-27 09:13:08</td>\n",
       "      <td>CSW21</td>\n",
       "      <td>1200</td>\n",
       "      <td>0</td>\n",
       "      <td>RATED</td>\n",
       "      <td>...</td>\n",
       "      <td>HastyBot</td>\n",
       "      <td>NaN</td>\n",
       "      <td>NaN</td>\n",
       "      <td>(RU)</td>\n",
       "      <td>4</td>\n",
       "      <td>346</td>\n",
       "      <td>End</td>\n",
       "      <td>HastyBot</td>\n",
       "      <td>346</td>\n",
       "      <td>2302</td>\n",
       "    </tr>\n",
       "  </tbody>\n",
       "</table>\n",
       "<p>2782578 rows × 23 columns</p>\n",
       "</div>"
      ],
      "text/plain": [
       "         game_id      first time_control_name game_end_reason  winner  \\\n",
       "0              1  BetterBot           regular        STANDARD       1   \n",
       "1              1  BetterBot           regular        STANDARD       1   \n",
       "2              1  BetterBot           regular        STANDARD       1   \n",
       "3              1  BetterBot           regular        STANDARD       1   \n",
       "4              1  BetterBot           regular        STANDARD       1   \n",
       "...          ...        ...               ...             ...     ...   \n",
       "2782573    72773   HastyBot           regular        STANDARD       1   \n",
       "2782574    72773   HastyBot           regular        STANDARD       1   \n",
       "2782575    72773   HastyBot           regular        STANDARD       1   \n",
       "2782576    72773   HastyBot           regular        STANDARD       1   \n",
       "2782577    72773   HastyBot           regular        STANDARD       1   \n",
       "\n",
       "                  created_at lexicon  initial_time_seconds  increment_seconds  \\\n",
       "0        2022-08-26 03:38:49   NWL20                  1200                  0   \n",
       "1        2022-08-26 03:38:49   NWL20                  1200                  0   \n",
       "2        2022-08-26 03:38:49   NWL20                  1200                  0   \n",
       "3        2022-08-26 03:38:49   NWL20                  1200                  0   \n",
       "4        2022-08-26 03:38:49   NWL20                  1200                  0   \n",
       "...                      ...     ...                   ...                ...   \n",
       "2782573  2022-08-27 09:13:08   CSW21                  1200                  0   \n",
       "2782574  2022-08-27 09:13:08   CSW21                  1200                  0   \n",
       "2782575  2022-08-27 09:13:08   CSW21                  1200                  0   \n",
       "2782576  2022-08-27 09:13:08   CSW21                  1200                  0   \n",
       "2782577  2022-08-27 09:13:08   CSW21                  1200                  0   \n",
       "\n",
       "        rating_mode  ...  nickname_x     rack  location  move points score_x  \\\n",
       "0            CASUAL  ...   BetterBot  DDEGITT        8G   DIG     10      10   \n",
       "1            CASUAL  ...   BetterBot  DDEGITT        8G   DIG     10      10   \n",
       "2            CASUAL  ...       stevy  AEHOPUX        7H   HAP     18      18   \n",
       "3            CASUAL  ...       stevy  AEHOPUX        7H   HAP     18      18   \n",
       "4            CASUAL  ...   BetterBot  DEELTTU        6I  LUTE     16      26   \n",
       "...             ...  ...         ...      ...       ...   ...    ...     ...   \n",
       "2782573       RATED  ...       adola    ABRRU       15E  BRA.      7     383   \n",
       "2782574       RATED  ...    HastyBot      EIP        7A   PIE     11     342   \n",
       "2782575       RATED  ...    HastyBot      EIP        7A   PIE     11     342   \n",
       "2782576       RATED  ...    HastyBot      NaN       NaN  (RU)      4     346   \n",
       "2782577       RATED  ...    HastyBot      NaN       NaN  (RU)      4     346   \n",
       "\n",
       "        turn_type  nickname_y  score_y rating  \n",
       "0            Play   BetterBot      335   1637  \n",
       "1            Play       stevy      429   1500  \n",
       "2            Play   BetterBot      335   1637  \n",
       "3            Play       stevy      429   1500  \n",
       "4            Play   BetterBot      335   1637  \n",
       "...           ...         ...      ...    ...  \n",
       "2782573      Play    HastyBot      346   2302  \n",
       "2782574      Play       adola      383   2075  \n",
       "2782575      Play    HastyBot      346   2302  \n",
       "2782576       End       adola      383   2075  \n",
       "2782577       End    HastyBot      346   2302  \n",
       "\n",
       "[2782578 rows x 23 columns]"
      ]
     },
     "execution_count": 28,
     "metadata": {},
     "output_type": "execute_result"
    }
   ],
   "source": [
    "master"
   ]
  },
  {
   "cell_type": "markdown",
   "metadata": {
    "id": "TCQQW9Enww3X"
   },
   "source": [
    "Missing values handling"
   ]
  },
  {
   "cell_type": "code",
   "execution_count": 29,
   "metadata": {
    "colab": {
     "base_uri": "https://localhost:8080/"
    },
    "id": "nKiAFnPOww3Y",
    "outputId": "198e94af-b973-4e1b-a901-e3ff531c9b2b"
   },
   "outputs": [
    {
     "data": {
      "text/plain": [
       "game_id                  0.000000\n",
       "first                    0.000000\n",
       "time_control_name        0.000000\n",
       "game_end_reason          0.000000\n",
       "winner                   0.000000\n",
       "created_at               0.000000\n",
       "lexicon                  0.000000\n",
       "initial_time_seconds     0.000000\n",
       "increment_seconds        0.000000\n",
       "rating_mode              0.000000\n",
       "max_overtime_minutes     0.000000\n",
       "game_duration_seconds    0.000000\n",
       "turn_number              0.000000\n",
       "nickname                 0.000000\n",
       "rack                     3.459988\n",
       "location                 6.593824\n",
       "move                     0.022638\n",
       "points                   0.000000\n",
       "score                    0.000000\n",
       "turn_type                0.019696\n",
       "dtype: float64"
      ]
     },
     "execution_count": 29,
     "metadata": {},
     "output_type": "execute_result"
    }
   ],
   "source": [
    "merge1.isna().sum()/merge1.shape[0]*100         #type: ignore"
   ]
  },
  {
   "cell_type": "code",
   "execution_count": 30,
   "metadata": {
    "colab": {
     "base_uri": "https://localhost:8080/"
    },
    "id": "fv_6jwmxww3a",
    "outputId": "e52ec3e1-5b4f-4702-bc10-086964b2e522"
   },
   "outputs": [
    {
     "data": {
      "text/plain": [
       "Index(['game_id', 'first', 'time_control_name', 'game_end_reason', 'winner',\n",
       "       'created_at', 'lexicon', 'initial_time_seconds', 'increment_seconds',\n",
       "       'rating_mode', 'max_overtime_minutes', 'game_duration_seconds',\n",
       "       'turn_number', 'nickname_x', 'rack', 'location', 'move', 'points',\n",
       "       'score_x', 'turn_type', 'nickname_y', 'score_y', 'rating'],\n",
       "      dtype='object')"
      ]
     },
     "execution_count": 30,
     "metadata": {},
     "output_type": "execute_result"
    }
   ],
   "source": [
    "master.columns"
   ]
  },
  {
   "cell_type": "markdown",
   "metadata": {
    "id": "W0xkcLGjww3c"
   },
   "source": [
    "TARGET VAR"
   ]
  },
  {
   "cell_type": "code",
   "execution_count": 31,
   "metadata": {
    "colab": {
     "base_uri": "https://localhost:8080/",
     "height": 606
    },
    "id": "n8JQUVSqww3d",
    "outputId": "2e4423f3-c4cd-43ef-d967-684d6b478de3"
   },
   "outputs": [
    {
     "data": {
      "image/png": "[encoded data removed]",
      "text/plain": [
       "<Figure size 1008x720 with 1 Axes>"
      ]
     },
     "metadata": {
      "needs_background": "light"
     },
     "output_type": "display_data"
    }
   ],
   "source": [
    "plt.figure(figsize=(14,10))\n",
    "sns.histplot(train['rating'], ax=plt.gca())\n",
    "plt.show()"
   ]
  },
  {
   "cell_type": "markdown",
   "metadata": {
    "id": "_U1tQJiPww3e"
   },
   "source": [
    "Most players have rating of near to 1500"
   ]
  },
  {
   "cell_type": "code",
   "execution_count": 32,
   "metadata": {
    "id": "1AHEPeIMww3e"
   },
   "outputs": [],
   "source": [
    "master.drop(columns=['created_at'],axis=1,inplace=True)"
   ]
  },
  {
   "cell_type": "markdown",
   "metadata": {
    "id": "e45fU_xmww3f"
   },
   "source": [
    "lets see best rated bots"
   ]
  },
  {
   "cell_type": "code",
   "execution_count": 33,
   "metadata": {
    "colab": {
     "base_uri": "https://localhost:8080/"
    },
    "id": "2RoV5nE4ww3g",
    "outputId": "f6556f2c-7c0f-42c2-9e49-460bb754690c"
   },
   "outputs": [
    {
     "data": {
      "text/plain": [
       "nickname_y\n",
       "TKC               2334.644172\n",
       "JingYaoTheNoob    2254.000000\n",
       "HBA               2231.076923\n",
       "AWFUL             2216.601090\n",
       "Indominus         2202.211679\n",
       "patricck          2202.177400\n",
       "zloty             2201.858025\n",
       "earth             2194.917553\n",
       "deflate2          2185.320611\n",
       "forwords          2173.363674\n",
       "Name: rating, dtype: float64"
      ]
     },
     "execution_count": 33,
     "metadata": {},
     "output_type": "execute_result"
    }
   ],
   "source": [
    "#best rated player vs rating\n",
    "\n",
    "master.groupby('nickname_y')['rating'].mean().sort_values(ascending=False).head(10)"
   ]
  },
  {
   "cell_type": "code",
   "execution_count": 34,
   "metadata": {
    "id": "ynicwiSeww3g"
   },
   "outputs": [],
   "source": [
    "master['humanbot_x'] = ['Human' if \"Bot\" not in x else \"Bot\" for x in master['nickname_x']]\n",
    "master['humanbot_y'] = ['Human' if \"Bot\" not in x else \"Bot\" for x in master['nickname_y']]"
   ]
  },
  {
   "cell_type": "code",
   "execution_count": 35,
   "metadata": {
    "colab": {
     "base_uri": "https://localhost:8080/",
     "height": 299
    },
    "id": "F7s_zsKKww3h",
    "outputId": "93a400a2-3de8-4fa8-ba41-121d1fb07251"
   },
   "outputs": [
    {
     "data": {
      "text/html": [
       "<div>\n",
       "<style scoped>\n",
       "    .dataframe tbody tr th:only-of-type {\n",
       "        vertical-align: middle;\n",
       "    }\n",
       "\n",
       "    .dataframe tbody tr th {\n",
       "        vertical-align: top;\n",
       "    }\n",
       "\n",
       "    .dataframe thead th {\n",
       "        text-align: right;\n",
       "    }\n",
       "</style>\n",
       "<table border=\"1\" class=\"dataframe\">\n",
       "  <thead>\n",
       "    <tr style=\"text-align: right;\">\n",
       "      <th></th>\n",
       "      <th>game_id</th>\n",
       "      <th>first</th>\n",
       "      <th>time_control_name</th>\n",
       "      <th>game_end_reason</th>\n",
       "      <th>winner</th>\n",
       "      <th>lexicon</th>\n",
       "      <th>initial_time_seconds</th>\n",
       "      <th>increment_seconds</th>\n",
       "      <th>rating_mode</th>\n",
       "      <th>max_overtime_minutes</th>\n",
       "      <th>...</th>\n",
       "      <th>location</th>\n",
       "      <th>move</th>\n",
       "      <th>points</th>\n",
       "      <th>score_x</th>\n",
       "      <th>turn_type</th>\n",
       "      <th>nickname_y</th>\n",
       "      <th>score_y</th>\n",
       "      <th>rating</th>\n",
       "      <th>humanbot_x</th>\n",
       "      <th>humanbot_y</th>\n",
       "    </tr>\n",
       "  </thead>\n",
       "  <tbody>\n",
       "    <tr>\n",
       "      <th>0</th>\n",
       "      <td>1</td>\n",
       "      <td>BetterBot</td>\n",
       "      <td>regular</td>\n",
       "      <td>STANDARD</td>\n",
       "      <td>1</td>\n",
       "      <td>NWL20</td>\n",
       "      <td>1200</td>\n",
       "      <td>0</td>\n",
       "      <td>CASUAL</td>\n",
       "      <td>1</td>\n",
       "      <td>...</td>\n",
       "      <td>8G</td>\n",
       "      <td>DIG</td>\n",
       "      <td>10</td>\n",
       "      <td>10</td>\n",
       "      <td>Play</td>\n",
       "      <td>BetterBot</td>\n",
       "      <td>335</td>\n",
       "      <td>1637</td>\n",
       "      <td>Bot</td>\n",
       "      <td>Bot</td>\n",
       "    </tr>\n",
       "    <tr>\n",
       "      <th>1</th>\n",
       "      <td>1</td>\n",
       "      <td>BetterBot</td>\n",
       "      <td>regular</td>\n",
       "      <td>STANDARD</td>\n",
       "      <td>1</td>\n",
       "      <td>NWL20</td>\n",
       "      <td>1200</td>\n",
       "      <td>0</td>\n",
       "      <td>CASUAL</td>\n",
       "      <td>1</td>\n",
       "      <td>...</td>\n",
       "      <td>8G</td>\n",
       "      <td>DIG</td>\n",
       "      <td>10</td>\n",
       "      <td>10</td>\n",
       "      <td>Play</td>\n",
       "      <td>stevy</td>\n",
       "      <td>429</td>\n",
       "      <td>1500</td>\n",
       "      <td>Bot</td>\n",
       "      <td>Human</td>\n",
       "    </tr>\n",
       "    <tr>\n",
       "      <th>2</th>\n",
       "      <td>1</td>\n",
       "      <td>BetterBot</td>\n",
       "      <td>regular</td>\n",
       "      <td>STANDARD</td>\n",
       "      <td>1</td>\n",
       "      <td>NWL20</td>\n",
       "      <td>1200</td>\n",
       "      <td>0</td>\n",
       "      <td>CASUAL</td>\n",
       "      <td>1</td>\n",
       "      <td>...</td>\n",
       "      <td>7H</td>\n",
       "      <td>HAP</td>\n",
       "      <td>18</td>\n",
       "      <td>18</td>\n",
       "      <td>Play</td>\n",
       "      <td>BetterBot</td>\n",
       "      <td>335</td>\n",
       "      <td>1637</td>\n",
       "      <td>Human</td>\n",
       "      <td>Bot</td>\n",
       "    </tr>\n",
       "    <tr>\n",
       "      <th>3</th>\n",
       "      <td>1</td>\n",
       "      <td>BetterBot</td>\n",
       "      <td>regular</td>\n",
       "      <td>STANDARD</td>\n",
       "      <td>1</td>\n",
       "      <td>NWL20</td>\n",
       "      <td>1200</td>\n",
       "      <td>0</td>\n",
       "      <td>CASUAL</td>\n",
       "      <td>1</td>\n",
       "      <td>...</td>\n",
       "      <td>7H</td>\n",
       "      <td>HAP</td>\n",
       "      <td>18</td>\n",
       "      <td>18</td>\n",
       "      <td>Play</td>\n",
       "      <td>stevy</td>\n",
       "      <td>429</td>\n",
       "      <td>1500</td>\n",
       "      <td>Human</td>\n",
       "      <td>Human</td>\n",
       "    </tr>\n",
       "    <tr>\n",
       "      <th>4</th>\n",
       "      <td>1</td>\n",
       "      <td>BetterBot</td>\n",
       "      <td>regular</td>\n",
       "      <td>STANDARD</td>\n",
       "      <td>1</td>\n",
       "      <td>NWL20</td>\n",
       "      <td>1200</td>\n",
       "      <td>0</td>\n",
       "      <td>CASUAL</td>\n",
       "      <td>1</td>\n",
       "      <td>...</td>\n",
       "      <td>6I</td>\n",
       "      <td>LUTE</td>\n",
       "      <td>16</td>\n",
       "      <td>26</td>\n",
       "      <td>Play</td>\n",
       "      <td>BetterBot</td>\n",
       "      <td>335</td>\n",
       "      <td>1637</td>\n",
       "      <td>Bot</td>\n",
       "      <td>Bot</td>\n",
       "    </tr>\n",
       "  </tbody>\n",
       "</table>\n",
       "<p>5 rows × 24 columns</p>\n",
       "</div>"
      ],
      "text/plain": [
       "   game_id      first time_control_name game_end_reason  winner lexicon  \\\n",
       "0        1  BetterBot           regular        STANDARD       1   NWL20   \n",
       "1        1  BetterBot           regular        STANDARD       1   NWL20   \n",
       "2        1  BetterBot           regular        STANDARD       1   NWL20   \n",
       "3        1  BetterBot           regular        STANDARD       1   NWL20   \n",
       "4        1  BetterBot           regular        STANDARD       1   NWL20   \n",
       "\n",
       "   initial_time_seconds  increment_seconds rating_mode  max_overtime_minutes  \\\n",
       "0                  1200                  0      CASUAL                     1   \n",
       "1                  1200                  0      CASUAL                     1   \n",
       "2                  1200                  0      CASUAL                     1   \n",
       "3                  1200                  0      CASUAL                     1   \n",
       "4                  1200                  0      CASUAL                     1   \n",
       "\n",
       "   ...  location  move points score_x turn_type nickname_y  score_y  rating  \\\n",
       "0  ...        8G   DIG     10      10      Play  BetterBot      335    1637   \n",
       "1  ...        8G   DIG     10      10      Play      stevy      429    1500   \n",
       "2  ...        7H   HAP     18      18      Play  BetterBot      335    1637   \n",
       "3  ...        7H   HAP     18      18      Play      stevy      429    1500   \n",
       "4  ...        6I  LUTE     16      26      Play  BetterBot      335    1637   \n",
       "\n",
       "  humanbot_x humanbot_y  \n",
       "0        Bot        Bot  \n",
       "1        Bot      Human  \n",
       "2      Human        Bot  \n",
       "3      Human      Human  \n",
       "4        Bot        Bot  \n",
       "\n",
       "[5 rows x 24 columns]"
      ]
     },
     "execution_count": 35,
     "metadata": {},
     "output_type": "execute_result"
    }
   ],
   "source": [
    "master.head(5)"
   ]
  },
  {
   "cell_type": "code",
   "execution_count": 36,
   "metadata": {
    "colab": {
     "base_uri": "https://localhost:8080/"
    },
    "id": "6xOpUtf4ww3i",
    "outputId": "6859c0b5-81f8-4758-dd63-9456b5df511d"
   },
   "outputs": [
    {
     "data": {
      "text/plain": [
       "array(['Play', 'End', 'Exchange', 'Pass', 'Timeout', 'Six-Zero Rule', nan,\n",
       "       'Challenge'], dtype=object)"
      ]
     },
     "execution_count": 36,
     "metadata": {},
     "output_type": "execute_result"
    }
   ],
   "source": [
    "master.turn_type.unique()"
   ]
  },
  {
   "cell_type": "code",
   "execution_count": 37,
   "metadata": {
    "id": "epl2IymUww3j"
   },
   "outputs": [],
   "source": [
    "master['rating_mode']=master['rating_mode'].map({'CASUAL':0,'RATED':1})\n",
    "\n",
    "master['game_end_reason']=master['game_end_reason'].map({'STANDARD':0,'TIME':2,'RESIGNATION':1,'CONSECUTIVE_ZEROS':3})\n",
    "\n",
    "master['lexicon']=master['lexicon'].map({'NWL20':0, 'CSW21':1, 'ECWL':2, 'NSWL20':3})\n",
    "\n",
    "master['time_control_name']=master['time_control_name'].map({'regular':0, 'rapid':1, 'blitz':2, 'ultrablitz':3})\n",
    "\n",
    "master['humanbot_x']=master['humanbot_x'].map({'Human':0, 'Bot':1})\n",
    "\n",
    "master['humanbot_y']=master['humanbot_y'].map({'Human':0, 'Bot':1})"
   ]
  },
  {
   "cell_type": "code",
   "execution_count": 38,
   "metadata": {
    "colab": {
     "base_uri": "https://localhost:8080/"
    },
    "id": "LGvQK1Onww3k",
    "outputId": "5f8163c8-c3cb-4568-e096-22f094d459a7"
   },
   "outputs": [
    {
     "data": {
      "text/plain": [
       "(2782578, 24)"
      ]
     },
     "execution_count": 38,
     "metadata": {},
     "output_type": "execute_result"
    }
   ],
   "source": [
    "master.shape"
   ]
  },
  {
   "cell_type": "code",
   "execution_count": 39,
   "metadata": {
    "colab": {
     "base_uri": "https://localhost:8080/"
    },
    "id": "KP2csLmKww3l",
    "outputId": "5cd3ac73-6538-49a9-88a8-ace6e6fe5902"
   },
   "outputs": [
    {
     "data": {
      "text/plain": [
       "(2534912, 24)"
      ]
     },
     "execution_count": 39,
     "metadata": {},
     "output_type": "execute_result"
    }
   ],
   "source": [
    "#drop null rows\n",
    "\n",
    "master2=master.dropna()\n",
    "master2.shape"
   ]
  },
  {
   "cell_type": "code",
   "execution_count": 40,
   "metadata": {
    "colab": {
     "base_uri": "https://localhost:8080/"
    },
    "id": "VhPBmnmOww3m",
    "outputId": "e72c2caa-a218-4c65-988a-0f8c25b88616"
   },
   "outputs": [
    {
     "data": {
      "text/plain": [
       "Index(['game_id', 'first', 'time_control_name', 'game_end_reason', 'winner',\n",
       "       'lexicon', 'initial_time_seconds', 'increment_seconds', 'rating_mode',\n",
       "       'max_overtime_minutes', 'game_duration_seconds', 'turn_number',\n",
       "       'nickname_x', 'rack', 'location', 'move', 'points', 'score_x',\n",
       "       'turn_type', 'nickname_y', 'score_y', 'rating', 'humanbot_x',\n",
       "       'humanbot_y'],\n",
       "      dtype='object')"
      ]
     },
     "execution_count": 40,
     "metadata": {},
     "output_type": "execute_result"
    }
   ],
   "source": [
    "master2.columns"
   ]
  },
  {
   "cell_type": "code",
   "execution_count": 41,
   "metadata": {
    "colab": {
     "base_uri": "https://localhost:8080/"
    },
    "id": "xt1LZewEww3n",
    "outputId": "4b83167f-e241-437e-c514-055e73de4426"
   },
   "outputs": [
    {
     "data": {
      "text/plain": [
       "array(['Play'], dtype=object)"
      ]
     },
     "execution_count": 41,
     "metadata": {},
     "output_type": "execute_result"
    }
   ],
   "source": [
    "master2.turn_type.unique()"
   ]
  },
  {
   "cell_type": "code",
   "execution_count": 42,
   "metadata": {
    "colab": {
     "base_uri": "https://localhost:8080/"
    },
    "id": "6VYTZkn8ww3o",
    "outputId": "3c74cb95-bbbf-4fb4-9d99-401a34c6d2fb"
   },
   "outputs": [
    {
     "name": "stderr",
     "output_type": "stream",
     "text": [
      "C:\\Users\\shivansh uppal\\AppData\\Local\\Temp\\ipykernel_23488\\2377140813.py:1: SettingWithCopyWarning: \n",
      "A value is trying to be set on a copy of a slice from a DataFrame\n",
      "\n",
      "See the caveats in the documentation: https://pandas.pydata.org/pandas-docs/stable/user_guide/indexing.html#returning-a-view-versus-a-copy\n",
      "  master2.drop(columns=['turn_type'],axis=1,inplace=True)\n"
     ]
    }
   ],
   "source": [
    "master2.drop(columns=['turn_type'],axis=1,inplace=True)"
   ]
  },
  {
   "cell_type": "code",
   "execution_count": 43,
   "metadata": {
    "colab": {
     "base_uri": "https://localhost:8080/"
    },
    "id": "qcUKHvm5ww3p",
    "outputId": "ab322412-dd0b-464b-e49e-44c3335b4784"
   },
   "outputs": [
    {
     "name": "stderr",
     "output_type": "stream",
     "text": [
      "C:\\Users\\shivansh uppal\\AppData\\Local\\Temp\\ipykernel_23488\\1205354577.py:8: SettingWithCopyWarning: \n",
      "A value is trying to be set on a copy of a slice from a DataFrame.\n",
      "Try using .loc[row_indexer,col_indexer] = value instead\n",
      "\n",
      "See the caveats in the documentation: https://pandas.pydata.org/pandas-docs/stable/user_guide/indexing.html#returning-a-view-versus-a-copy\n",
      "  master2['rack']=lb.fit_transform(master2['rack'])\n",
      "C:\\Users\\shivansh uppal\\AppData\\Local\\Temp\\ipykernel_23488\\1205354577.py:11: SettingWithCopyWarning: \n",
      "A value is trying to be set on a copy of a slice from a DataFrame.\n",
      "Try using .loc[row_indexer,col_indexer] = value instead\n",
      "\n",
      "See the caveats in the documentation: https://pandas.pydata.org/pandas-docs/stable/user_guide/indexing.html#returning-a-view-versus-a-copy\n",
      "  master2['move']=lb.fit_transform(master2['move'])\n",
      "C:\\Users\\shivansh uppal\\AppData\\Local\\Temp\\ipykernel_23488\\1205354577.py:14: SettingWithCopyWarning: \n",
      "A value is trying to be set on a copy of a slice from a DataFrame.\n",
      "Try using .loc[row_indexer,col_indexer] = value instead\n",
      "\n",
      "See the caveats in the documentation: https://pandas.pydata.org/pandas-docs/stable/user_guide/indexing.html#returning-a-view-versus-a-copy\n",
      "  master2['location']=lb.fit_transform(master2['location'])\n"
     ]
    }
   ],
   "source": [
    "#getting dummies for turn type,rack,move,location with preserving memory\n",
    "\n",
    "from sklearn.preprocessing import LabelEncoder\n",
    "\n",
    "lb=LabelEncoder()\n",
    "\n",
    "lb.fit(master2['rack'])\n",
    "master2['rack']=lb.fit_transform(master2['rack'])\n",
    "\n",
    "lb.fit(master2['move'])\n",
    "master2['move']=lb.fit_transform(master2['move'])\n",
    "\n",
    "lb.fit(master2['location'])\n",
    "master2['location']=lb.fit_transform(master2['location'])"
   ]
  },
  {
   "cell_type": "code",
   "execution_count": 44,
   "metadata": {
    "colab": {
     "base_uri": "https://localhost:8080/",
     "height": 815
    },
    "id": "xYYZBHUhww3q",
    "outputId": "a0e07483-cb26-49e5-8ef6-df0446abb841"
   },
   "outputs": [
    {
     "data": {
      "image/png": "[encoded data removed]",
      "text/plain": [
       "<Figure size 1080x864 with 2 Axes>"
      ]
     },
     "metadata": {
      "needs_background": "light"
     },
     "output_type": "display_data"
    }
   ],
   "source": [
    "plt.figure(figsize=(15,12))\n",
    "sns.heatmap(master2.corr(),annot=True,cmap='coolwarm')\n",
    "plt.show()"
   ]
  },
  {
   "cell_type": "code",
   "execution_count": 45,
   "metadata": {
    "colab": {
     "base_uri": "https://localhost:8080/"
    },
    "id": "f6tahpckww3r",
    "outputId": "99bdbe7a-1398-42c3-eed1-60369fe4d465"
   },
   "outputs": [
    {
     "name": "stderr",
     "output_type": "stream",
     "text": [
      "C:\\Users\\shivansh uppal\\AppData\\Local\\Temp\\ipykernel_23488\\4010661600.py:1: SettingWithCopyWarning: \n",
      "A value is trying to be set on a copy of a slice from a DataFrame\n",
      "\n",
      "See the caveats in the documentation: https://pandas.pydata.org/pandas-docs/stable/user_guide/indexing.html#returning-a-view-versus-a-copy\n",
      "  master2.drop(columns=['rack','location','move'],axis=1,inplace=True)\n"
     ]
    }
   ],
   "source": [
    "master2.drop(columns=['rack','location','move'],axis=1,inplace=True)"
   ]
  },
  {
   "cell_type": "code",
   "execution_count": 46,
   "metadata": {
    "colab": {
     "base_uri": "https://localhost:8080/",
     "height": 270
    },
    "id": "J7fs0d6Oww3s",
    "outputId": "2ab69e8b-c91f-4312-cecb-a637b31224cb"
   },
   "outputs": [
    {
     "data": {
      "text/html": [
       "<div>\n",
       "<style scoped>\n",
       "    .dataframe tbody tr th:only-of-type {\n",
       "        vertical-align: middle;\n",
       "    }\n",
       "\n",
       "    .dataframe tbody tr th {\n",
       "        vertical-align: top;\n",
       "    }\n",
       "\n",
       "    .dataframe thead th {\n",
       "        text-align: right;\n",
       "    }\n",
       "</style>\n",
       "<table border=\"1\" class=\"dataframe\">\n",
       "  <thead>\n",
       "    <tr style=\"text-align: right;\">\n",
       "      <th></th>\n",
       "      <th>game_id</th>\n",
       "      <th>first</th>\n",
       "      <th>time_control_name</th>\n",
       "      <th>game_end_reason</th>\n",
       "      <th>winner</th>\n",
       "      <th>lexicon</th>\n",
       "      <th>initial_time_seconds</th>\n",
       "      <th>increment_seconds</th>\n",
       "      <th>rating_mode</th>\n",
       "      <th>max_overtime_minutes</th>\n",
       "      <th>game_duration_seconds</th>\n",
       "      <th>turn_number</th>\n",
       "      <th>nickname_x</th>\n",
       "      <th>points</th>\n",
       "      <th>score_x</th>\n",
       "      <th>nickname_y</th>\n",
       "      <th>score_y</th>\n",
       "      <th>rating</th>\n",
       "      <th>humanbot_x</th>\n",
       "      <th>humanbot_y</th>\n",
       "    </tr>\n",
       "  </thead>\n",
       "  <tbody>\n",
       "    <tr>\n",
       "      <th>0</th>\n",
       "      <td>1</td>\n",
       "      <td>BetterBot</td>\n",
       "      <td>0</td>\n",
       "      <td>0.0</td>\n",
       "      <td>1</td>\n",
       "      <td>0</td>\n",
       "      <td>1200</td>\n",
       "      <td>0</td>\n",
       "      <td>0</td>\n",
       "      <td>1</td>\n",
       "      <td>674.844274</td>\n",
       "      <td>1</td>\n",
       "      <td>BetterBot</td>\n",
       "      <td>10</td>\n",
       "      <td>10</td>\n",
       "      <td>BetterBot</td>\n",
       "      <td>335</td>\n",
       "      <td>1637</td>\n",
       "      <td>1</td>\n",
       "      <td>1</td>\n",
       "    </tr>\n",
       "    <tr>\n",
       "      <th>1</th>\n",
       "      <td>1</td>\n",
       "      <td>BetterBot</td>\n",
       "      <td>0</td>\n",
       "      <td>0.0</td>\n",
       "      <td>1</td>\n",
       "      <td>0</td>\n",
       "      <td>1200</td>\n",
       "      <td>0</td>\n",
       "      <td>0</td>\n",
       "      <td>1</td>\n",
       "      <td>674.844274</td>\n",
       "      <td>1</td>\n",
       "      <td>BetterBot</td>\n",
       "      <td>10</td>\n",
       "      <td>10</td>\n",
       "      <td>stevy</td>\n",
       "      <td>429</td>\n",
       "      <td>1500</td>\n",
       "      <td>1</td>\n",
       "      <td>0</td>\n",
       "    </tr>\n",
       "    <tr>\n",
       "      <th>2</th>\n",
       "      <td>1</td>\n",
       "      <td>BetterBot</td>\n",
       "      <td>0</td>\n",
       "      <td>0.0</td>\n",
       "      <td>1</td>\n",
       "      <td>0</td>\n",
       "      <td>1200</td>\n",
       "      <td>0</td>\n",
       "      <td>0</td>\n",
       "      <td>1</td>\n",
       "      <td>674.844274</td>\n",
       "      <td>2</td>\n",
       "      <td>stevy</td>\n",
       "      <td>18</td>\n",
       "      <td>18</td>\n",
       "      <td>BetterBot</td>\n",
       "      <td>335</td>\n",
       "      <td>1637</td>\n",
       "      <td>0</td>\n",
       "      <td>1</td>\n",
       "    </tr>\n",
       "    <tr>\n",
       "      <th>3</th>\n",
       "      <td>1</td>\n",
       "      <td>BetterBot</td>\n",
       "      <td>0</td>\n",
       "      <td>0.0</td>\n",
       "      <td>1</td>\n",
       "      <td>0</td>\n",
       "      <td>1200</td>\n",
       "      <td>0</td>\n",
       "      <td>0</td>\n",
       "      <td>1</td>\n",
       "      <td>674.844274</td>\n",
       "      <td>2</td>\n",
       "      <td>stevy</td>\n",
       "      <td>18</td>\n",
       "      <td>18</td>\n",
       "      <td>stevy</td>\n",
       "      <td>429</td>\n",
       "      <td>1500</td>\n",
       "      <td>0</td>\n",
       "      <td>0</td>\n",
       "    </tr>\n",
       "    <tr>\n",
       "      <th>4</th>\n",
       "      <td>1</td>\n",
       "      <td>BetterBot</td>\n",
       "      <td>0</td>\n",
       "      <td>0.0</td>\n",
       "      <td>1</td>\n",
       "      <td>0</td>\n",
       "      <td>1200</td>\n",
       "      <td>0</td>\n",
       "      <td>0</td>\n",
       "      <td>1</td>\n",
       "      <td>674.844274</td>\n",
       "      <td>3</td>\n",
       "      <td>BetterBot</td>\n",
       "      <td>16</td>\n",
       "      <td>26</td>\n",
       "      <td>BetterBot</td>\n",
       "      <td>335</td>\n",
       "      <td>1637</td>\n",
       "      <td>1</td>\n",
       "      <td>1</td>\n",
       "    </tr>\n",
       "  </tbody>\n",
       "</table>\n",
       "</div>"
      ],
      "text/plain": [
       "   game_id      first  time_control_name  game_end_reason  winner  lexicon  \\\n",
       "0        1  BetterBot                  0              0.0       1        0   \n",
       "1        1  BetterBot                  0              0.0       1        0   \n",
       "2        1  BetterBot                  0              0.0       1        0   \n",
       "3        1  BetterBot                  0              0.0       1        0   \n",
       "4        1  BetterBot                  0              0.0       1        0   \n",
       "\n",
       "   initial_time_seconds  increment_seconds  rating_mode  max_overtime_minutes  \\\n",
       "0                  1200                  0            0                     1   \n",
       "1                  1200                  0            0                     1   \n",
       "2                  1200                  0            0                     1   \n",
       "3                  1200                  0            0                     1   \n",
       "4                  1200                  0            0                     1   \n",
       "\n",
       "   game_duration_seconds  turn_number nickname_x  points  score_x nickname_y  \\\n",
       "0             674.844274            1  BetterBot      10       10  BetterBot   \n",
       "1             674.844274            1  BetterBot      10       10      stevy   \n",
       "2             674.844274            2      stevy      18       18  BetterBot   \n",
       "3             674.844274            2      stevy      18       18      stevy   \n",
       "4             674.844274            3  BetterBot      16       26  BetterBot   \n",
       "\n",
       "   score_y  rating  humanbot_x  humanbot_y  \n",
       "0      335    1637           1           1  \n",
       "1      429    1500           1           0  \n",
       "2      335    1637           0           1  \n",
       "3      429    1500           0           0  \n",
       "4      335    1637           1           1  "
      ]
     },
     "execution_count": 46,
     "metadata": {},
     "output_type": "execute_result"
    }
   ],
   "source": [
    "master2.head()"
   ]
  },
  {
   "cell_type": "code",
   "execution_count": 47,
   "metadata": {
    "colab": {
     "base_uri": "https://localhost:8080/"
    },
    "id": "v0tvZXsEww3s",
    "outputId": "c0dffabe-86ab-4d28-e6b9-f102eb62b2bb"
   },
   "outputs": [
    {
     "name": "stderr",
     "output_type": "stream",
     "text": [
      "C:\\Users\\shivansh uppal\\AppData\\Local\\Temp\\ipykernel_23488\\2607997231.py:3: SettingWithCopyWarning: \n",
      "A value is trying to be set on a copy of a slice from a DataFrame\n",
      "\n",
      "See the caveats in the documentation: https://pandas.pydata.org/pandas-docs/stable/user_guide/indexing.html#returning-a-view-versus-a-copy\n",
      "  master2.drop(columns=['humanbot_x','nickname_x','score_x'],axis=1,inplace=True)\n"
     ]
    }
   ],
   "source": [
    "#search for game_id 2\n",
    "\n",
    "master2.drop(columns=['humanbot_x','nickname_x','score_x'],axis=1,inplace=True)"
   ]
  },
  {
   "cell_type": "code",
   "execution_count": 48,
   "metadata": {
    "colab": {
     "base_uri": "https://localhost:8080/",
     "height": 270
    },
    "id": "5KHJqcAxww3u",
    "outputId": "72f898b8-bb6d-47a9-d71b-12970a86c20b"
   },
   "outputs": [
    {
     "data": {
      "text/html": [
       "<div>\n",
       "<style scoped>\n",
       "    .dataframe tbody tr th:only-of-type {\n",
       "        vertical-align: middle;\n",
       "    }\n",
       "\n",
       "    .dataframe tbody tr th {\n",
       "        vertical-align: top;\n",
       "    }\n",
       "\n",
       "    .dataframe thead th {\n",
       "        text-align: right;\n",
       "    }\n",
       "</style>\n",
       "<table border=\"1\" class=\"dataframe\">\n",
       "  <thead>\n",
       "    <tr style=\"text-align: right;\">\n",
       "      <th></th>\n",
       "      <th>game_id</th>\n",
       "      <th>first</th>\n",
       "      <th>time_control_name</th>\n",
       "      <th>game_end_reason</th>\n",
       "      <th>winner</th>\n",
       "      <th>lexicon</th>\n",
       "      <th>initial_time_seconds</th>\n",
       "      <th>increment_seconds</th>\n",
       "      <th>rating_mode</th>\n",
       "      <th>max_overtime_minutes</th>\n",
       "      <th>game_duration_seconds</th>\n",
       "      <th>turn_number</th>\n",
       "      <th>points</th>\n",
       "      <th>nickname_y</th>\n",
       "      <th>score_y</th>\n",
       "      <th>rating</th>\n",
       "      <th>humanbot_y</th>\n",
       "    </tr>\n",
       "  </thead>\n",
       "  <tbody>\n",
       "    <tr>\n",
       "      <th>0</th>\n",
       "      <td>1</td>\n",
       "      <td>BetterBot</td>\n",
       "      <td>0</td>\n",
       "      <td>0.0</td>\n",
       "      <td>1</td>\n",
       "      <td>0</td>\n",
       "      <td>1200</td>\n",
       "      <td>0</td>\n",
       "      <td>0</td>\n",
       "      <td>1</td>\n",
       "      <td>674.844274</td>\n",
       "      <td>1</td>\n",
       "      <td>10</td>\n",
       "      <td>BetterBot</td>\n",
       "      <td>335</td>\n",
       "      <td>1637</td>\n",
       "      <td>1</td>\n",
       "    </tr>\n",
       "    <tr>\n",
       "      <th>1</th>\n",
       "      <td>1</td>\n",
       "      <td>BetterBot</td>\n",
       "      <td>0</td>\n",
       "      <td>0.0</td>\n",
       "      <td>1</td>\n",
       "      <td>0</td>\n",
       "      <td>1200</td>\n",
       "      <td>0</td>\n",
       "      <td>0</td>\n",
       "      <td>1</td>\n",
       "      <td>674.844274</td>\n",
       "      <td>1</td>\n",
       "      <td>10</td>\n",
       "      <td>stevy</td>\n",
       "      <td>429</td>\n",
       "      <td>1500</td>\n",
       "      <td>0</td>\n",
       "    </tr>\n",
       "    <tr>\n",
       "      <th>2</th>\n",
       "      <td>1</td>\n",
       "      <td>BetterBot</td>\n",
       "      <td>0</td>\n",
       "      <td>0.0</td>\n",
       "      <td>1</td>\n",
       "      <td>0</td>\n",
       "      <td>1200</td>\n",
       "      <td>0</td>\n",
       "      <td>0</td>\n",
       "      <td>1</td>\n",
       "      <td>674.844274</td>\n",
       "      <td>2</td>\n",
       "      <td>18</td>\n",
       "      <td>BetterBot</td>\n",
       "      <td>335</td>\n",
       "      <td>1637</td>\n",
       "      <td>1</td>\n",
       "    </tr>\n",
       "    <tr>\n",
       "      <th>3</th>\n",
       "      <td>1</td>\n",
       "      <td>BetterBot</td>\n",
       "      <td>0</td>\n",
       "      <td>0.0</td>\n",
       "      <td>1</td>\n",
       "      <td>0</td>\n",
       "      <td>1200</td>\n",
       "      <td>0</td>\n",
       "      <td>0</td>\n",
       "      <td>1</td>\n",
       "      <td>674.844274</td>\n",
       "      <td>2</td>\n",
       "      <td>18</td>\n",
       "      <td>stevy</td>\n",
       "      <td>429</td>\n",
       "      <td>1500</td>\n",
       "      <td>0</td>\n",
       "    </tr>\n",
       "    <tr>\n",
       "      <th>4</th>\n",
       "      <td>1</td>\n",
       "      <td>BetterBot</td>\n",
       "      <td>0</td>\n",
       "      <td>0.0</td>\n",
       "      <td>1</td>\n",
       "      <td>0</td>\n",
       "      <td>1200</td>\n",
       "      <td>0</td>\n",
       "      <td>0</td>\n",
       "      <td>1</td>\n",
       "      <td>674.844274</td>\n",
       "      <td>3</td>\n",
       "      <td>16</td>\n",
       "      <td>BetterBot</td>\n",
       "      <td>335</td>\n",
       "      <td>1637</td>\n",
       "      <td>1</td>\n",
       "    </tr>\n",
       "  </tbody>\n",
       "</table>\n",
       "</div>"
      ],
      "text/plain": [
       "   game_id      first  time_control_name  game_end_reason  winner  lexicon  \\\n",
       "0        1  BetterBot                  0              0.0       1        0   \n",
       "1        1  BetterBot                  0              0.0       1        0   \n",
       "2        1  BetterBot                  0              0.0       1        0   \n",
       "3        1  BetterBot                  0              0.0       1        0   \n",
       "4        1  BetterBot                  0              0.0       1        0   \n",
       "\n",
       "   initial_time_seconds  increment_seconds  rating_mode  max_overtime_minutes  \\\n",
       "0                  1200                  0            0                     1   \n",
       "1                  1200                  0            0                     1   \n",
       "2                  1200                  0            0                     1   \n",
       "3                  1200                  0            0                     1   \n",
       "4                  1200                  0            0                     1   \n",
       "\n",
       "   game_duration_seconds  turn_number  points nickname_y  score_y  rating  \\\n",
       "0             674.844274            1      10  BetterBot      335    1637   \n",
       "1             674.844274            1      10      stevy      429    1500   \n",
       "2             674.844274            2      18  BetterBot      335    1637   \n",
       "3             674.844274            2      18      stevy      429    1500   \n",
       "4             674.844274            3      16  BetterBot      335    1637   \n",
       "\n",
       "   humanbot_y  \n",
       "0           1  \n",
       "1           0  \n",
       "2           1  \n",
       "3           0  \n",
       "4           1  "
      ]
     },
     "execution_count": 48,
     "metadata": {},
     "output_type": "execute_result"
    }
   ],
   "source": [
    "master2.head()"
   ]
  },
  {
   "cell_type": "markdown",
   "metadata": {
    "id": "lINeaNZ4U3L9"
   },
   "source": [
    "# FEATURE SELECTION"
   ]
  },
  {
   "cell_type": "code",
   "execution_count": 49,
   "metadata": {},
   "outputs": [
    {
     "data": {
      "text/html": [
       "<div>\n",
       "<style scoped>\n",
       "    .dataframe tbody tr th:only-of-type {\n",
       "        vertical-align: middle;\n",
       "    }\n",
       "\n",
       "    .dataframe tbody tr th {\n",
       "        vertical-align: top;\n",
       "    }\n",
       "\n",
       "    .dataframe thead th {\n",
       "        text-align: right;\n",
       "    }\n",
       "</style>\n",
       "<table border=\"1\" class=\"dataframe\">\n",
       "  <thead>\n",
       "    <tr style=\"text-align: right;\">\n",
       "      <th></th>\n",
       "      <th>game_id</th>\n",
       "      <th>nickname_x</th>\n",
       "      <th>score_x</th>\n",
       "      <th>rating_x</th>\n",
       "      <th>nickname_y</th>\n",
       "      <th>score_y</th>\n",
       "      <th>rating_y</th>\n",
       "      <th>first</th>\n",
       "      <th>time_control_name</th>\n",
       "      <th>game_end_reason</th>\n",
       "      <th>winner</th>\n",
       "      <th>lexicon</th>\n",
       "      <th>initial_time_seconds</th>\n",
       "      <th>increment_seconds</th>\n",
       "      <th>rating_mode</th>\n",
       "      <th>max_overtime_minutes</th>\n",
       "      <th>game_duration_seconds</th>\n",
       "      <th>turn_number</th>\n",
       "    </tr>\n",
       "  </thead>\n",
       "  <tbody>\n",
       "    <tr>\n",
       "      <th>0</th>\n",
       "      <td>1</td>\n",
       "      <td>BetterBot</td>\n",
       "      <td>335</td>\n",
       "      <td>1637</td>\n",
       "      <td>stevy</td>\n",
       "      <td>429</td>\n",
       "      <td>1500</td>\n",
       "      <td>BetterBot</td>\n",
       "      <td>regular</td>\n",
       "      <td>STANDARD</td>\n",
       "      <td>1</td>\n",
       "      <td>NWL20</td>\n",
       "      <td>1200</td>\n",
       "      <td>0</td>\n",
       "      <td>CASUAL</td>\n",
       "      <td>1</td>\n",
       "      <td>674.844274</td>\n",
       "      <td>27</td>\n",
       "    </tr>\n",
       "    <tr>\n",
       "      <th>1</th>\n",
       "      <td>3</td>\n",
       "      <td>davidavid</td>\n",
       "      <td>440</td>\n",
       "      <td>1811</td>\n",
       "      <td>BetterBot</td>\n",
       "      <td>318</td>\n",
       "      <td>2071</td>\n",
       "      <td>BetterBot</td>\n",
       "      <td>regular</td>\n",
       "      <td>STANDARD</td>\n",
       "      <td>1</td>\n",
       "      <td>CSW21</td>\n",
       "      <td>900</td>\n",
       "      <td>0</td>\n",
       "      <td>RATED</td>\n",
       "      <td>5</td>\n",
       "      <td>492.268262</td>\n",
       "      <td>27</td>\n",
       "    </tr>\n",
       "    <tr>\n",
       "      <th>2</th>\n",
       "      <td>4</td>\n",
       "      <td>Inandoutworker</td>\n",
       "      <td>119</td>\n",
       "      <td>1473</td>\n",
       "      <td>BetterBot</td>\n",
       "      <td>478</td>\n",
       "      <td>1936</td>\n",
       "      <td>BetterBot</td>\n",
       "      <td>regular</td>\n",
       "      <td>RESIGNED</td>\n",
       "      <td>0</td>\n",
       "      <td>CSW21</td>\n",
       "      <td>3600</td>\n",
       "      <td>0</td>\n",
       "      <td>CASUAL</td>\n",
       "      <td>1</td>\n",
       "      <td>350.861141</td>\n",
       "      <td>29</td>\n",
       "    </tr>\n",
       "    <tr>\n",
       "      <th>3</th>\n",
       "      <td>5</td>\n",
       "      <td>stevy</td>\n",
       "      <td>325</td>\n",
       "      <td>1500</td>\n",
       "      <td>STEEBot</td>\n",
       "      <td>427</td>\n",
       "      <td>1844</td>\n",
       "      <td>STEEBot</td>\n",
       "      <td>regular</td>\n",
       "      <td>STANDARD</td>\n",
       "      <td>0</td>\n",
       "      <td>NWL20</td>\n",
       "      <td>1200</td>\n",
       "      <td>0</td>\n",
       "      <td>CASUAL</td>\n",
       "      <td>1</td>\n",
       "      <td>642.688722</td>\n",
       "      <td>31</td>\n",
       "    </tr>\n",
       "    <tr>\n",
       "      <th>4</th>\n",
       "      <td>6</td>\n",
       "      <td>HivinD</td>\n",
       "      <td>378</td>\n",
       "      <td>2029</td>\n",
       "      <td>STEEBot</td>\n",
       "      <td>427</td>\n",
       "      <td>2143</td>\n",
       "      <td>HivinD</td>\n",
       "      <td>regular</td>\n",
       "      <td>STANDARD</td>\n",
       "      <td>0</td>\n",
       "      <td>CSW21</td>\n",
       "      <td>900</td>\n",
       "      <td>0</td>\n",
       "      <td>RATED</td>\n",
       "      <td>1</td>\n",
       "      <td>426.950541</td>\n",
       "      <td>25</td>\n",
       "    </tr>\n",
       "  </tbody>\n",
       "</table>\n",
       "</div>"
      ],
      "text/plain": [
       "   game_id      nickname_x  score_x  rating_x nickname_y  score_y  rating_y  \\\n",
       "0        1       BetterBot      335      1637      stevy      429      1500   \n",
       "1        3       davidavid      440      1811  BetterBot      318      2071   \n",
       "2        4  Inandoutworker      119      1473  BetterBot      478      1936   \n",
       "3        5           stevy      325      1500    STEEBot      427      1844   \n",
       "4        6          HivinD      378      2029    STEEBot      427      2143   \n",
       "\n",
       "       first time_control_name game_end_reason  winner lexicon  \\\n",
       "0  BetterBot           regular        STANDARD       1   NWL20   \n",
       "1  BetterBot           regular        STANDARD       1   CSW21   \n",
       "2  BetterBot           regular        RESIGNED       0   CSW21   \n",
       "3    STEEBot           regular        STANDARD       0   NWL20   \n",
       "4     HivinD           regular        STANDARD       0   CSW21   \n",
       "\n",
       "   initial_time_seconds  increment_seconds rating_mode  max_overtime_minutes  \\\n",
       "0                  1200                  0      CASUAL                     1   \n",
       "1                   900                  0       RATED                     5   \n",
       "2                  3600                  0      CASUAL                     1   \n",
       "3                  1200                  0      CASUAL                     1   \n",
       "4                   900                  0       RATED                     1   \n",
       "\n",
       "   game_duration_seconds  turn_number  \n",
       "0             674.844274           27  \n",
       "1             492.268262           27  \n",
       "2             350.861141           29  \n",
       "3             642.688722           31  \n",
       "4             426.950541           25  "
      ]
     },
     "execution_count": 49,
     "metadata": {},
     "output_type": "execute_result"
    }
   ],
   "source": [
    "train_merge.head()"
   ]
  },
  {
   "cell_type": "code",
   "execution_count": 50,
   "metadata": {
    "scrolled": true
   },
   "outputs": [
    {
     "data": {
      "text/plain": [
       "Index(['game_id', 'nickname_x', 'score_x', 'rating_x', 'nickname_y', 'score_y',\n",
       "       'rating_y', 'first', 'time_control_name', 'game_end_reason', 'winner',\n",
       "       'lexicon', 'initial_time_seconds', 'increment_seconds', 'rating_mode',\n",
       "       'max_overtime_minutes', 'game_duration_seconds', 'turn_number'],\n",
       "      dtype='object')"
      ]
     },
     "execution_count": 50,
     "metadata": {},
     "output_type": "execute_result"
    }
   ],
   "source": [
    "train_merge.columns"
   ]
  },
  {
   "cell_type": "code",
   "execution_count": 71,
   "metadata": {},
   "outputs": [
    {
     "name": "stdout",
     "output_type": "stream",
     "text": [
      "(50410, 16) (50410,)\n"
     ]
    }
   ],
   "source": [
    "y = train_merge['rating_y']\n",
    "X = train_merge.drop(['rating_y','game_id'],axis=1)\n",
    "print(X.shape, y.shape)"
   ]
  },
  {
   "cell_type": "code",
   "execution_count": 72,
   "metadata": {
    "id": "_mwD3fKPVGB7"
   },
   "outputs": [],
   "source": [
    "cat=['nickname_x','nickname_y','first','time_control_name',\n",
    "     'game_end_reason','lexicon','rating_mode']\n",
    "\n",
    "num=['score_x', 'rating_x','score_y','winner','initial_time_seconds', \n",
    "     'increment_seconds','max_overtime_minutes', 'game_duration_seconds',\n",
    "     'turn_number']"
   ]
  },
  {
   "cell_type": "code",
   "execution_count": 73,
   "metadata": {
    "id": "ao1APr1gWSPC"
   },
   "outputs": [],
   "source": [
    "X_num,X_cat= X[num],X[cat]"
   ]
  },
  {
   "cell_type": "code",
   "execution_count": 74,
   "metadata": {
    "colab": {
     "base_uri": "https://localhost:8080/",
     "height": 518
    },
    "id": "Pda45_NDWVvv",
    "outputId": "59a59f23-43ba-4fb4-ae51-a03525ff49fd"
   },
   "outputs": [
    {
     "name": "stdout",
     "output_type": "stream",
     "text": [
      "Feature 0: 55.160696\n",
      "Feature 1: 12228.683243\n",
      "Feature 2: 10911.181302\n",
      "Feature 3: 0.594035\n",
      "Feature 4: 1087.177175\n",
      "Feature 5: 1.187562\n",
      "Feature 6: 11710.281625\n",
      "Feature 7: 1173.640489\n",
      "Feature 8: 3972.980899\n"
     ]
    },
    {
     "data": {
      "image/png": "[encoded data removed]",
      "text/plain": [
       "<Figure size 432x288 with 1 Axes>"
      ]
     },
     "metadata": {
      "needs_background": "light"
     },
     "output_type": "display_data"
    }
   ],
   "source": [
    "# Applying Pearson's correlation on X_num\n",
    "\n",
    "from sklearn.feature_selection import SelectKBest\n",
    "from sklearn.feature_selection import f_regression\n",
    "\n",
    "fs = SelectKBest(score_func=f_regression, k=4)\n",
    "fs.fit(X_num, y)\n",
    "X_num_fs = fs.transform(X_num)\n",
    "\n",
    "for i in range(len(fs.scores_)):\n",
    "    print('Feature %d: %f' % (i, fs.scores_[i]))\n",
    "plt.bar([i for i in range(len(fs.scores_))], fs.scores_)\n",
    "plt.show()"
   ]
  },
  {
   "cell_type": "code",
   "execution_count": 75,
   "metadata": {
    "colab": {
     "base_uri": "https://localhost:8080/",
     "height": 337
    },
    "id": "CuKgVYo0WdL5",
    "outputId": "e8cf7c0e-2ee6-48db-f09f-6d3e1e949236"
   },
   "outputs": [
    {
     "name": "stdout",
     "output_type": "stream",
     "text": [
      "Feature 0: 10.302341\n",
      "Feature 1: 11.943963\n",
      "Feature 2: 6.982388\n",
      "Feature 3: 5.808921\n",
      "Feature 4: 1.852277\n",
      "Feature 5: 24.301207\n",
      "Feature 6: 38.995396\n"
     ]
    },
    {
     "name": "stderr",
     "output_type": "stream",
     "text": [
      "c:\\Users\\shivansh uppal\\AppData\\Local\\Programs\\Python\\Python310\\lib\\site-packages\\sklearn\\base.py:443: UserWarning: X has feature names, but SelectKBest was fitted without feature names\n",
      "  warnings.warn(\n"
     ]
    },
    {
     "data": {
      "image/png": "[encoded data removed]",
      "text/plain": [
       "<Figure size 432x288 with 1 Axes>"
      ]
     },
     "metadata": {
      "needs_background": "light"
     },
     "output_type": "display_data"
    }
   ],
   "source": [
    "# Applying ANOVA F-Test on X_cat\n",
    "\n",
    "from sklearn.preprocessing import OrdinalEncoder\n",
    "from sklearn.feature_selection import SelectKBest\n",
    "from sklearn.feature_selection import f_classif\n",
    "\n",
    "oe=OrdinalEncoder()\n",
    "X_cat_oe=oe.fit_transform(X_cat).astype('int')\n",
    "\n",
    "fs = SelectKBest(score_func=f_classif, k=2)\n",
    "fs.fit(X_cat_oe, y)\n",
    "X_cat_fs = fs.transform(X_cat)\n",
    "\n",
    "for i in range(len(fs.scores_)):\n",
    "    print('Feature %d: %f' % (i, fs.scores_[i]))\n",
    "plt.bar([i for i in range(len(fs.scores_))], fs.scores_)\n",
    "plt.show()"
   ]
  },
  {
   "cell_type": "markdown",
   "metadata": {
    "id": "vyE8ISS6XDJw"
   },
   "source": [
    "### ONE HOT ENCODING"
   ]
  },
  {
   "cell_type": "code",
   "execution_count": 76,
   "metadata": {},
   "outputs": [
    {
     "name": "stdout",
     "output_type": "stream",
     "text": [
      "(50410, 4)\n"
     ]
    }
   ],
   "source": [
    "from sklearn.preprocessing import OneHotEncoder\n",
    "ohe = OneHotEncoder(sparse=False, drop='first')\n",
    "X_cat_ohe = ohe.fit_transform(X_cat_fs)\n",
    "print(X_cat_ohe.shape)"
   ]
  },
  {
   "cell_type": "code",
   "execution_count": 77,
   "metadata": {
    "colab": {
     "base_uri": "https://localhost:8080/"
    },
    "id": "rs1hkT3DWrAE",
    "outputId": "af34134f-2ce3-4e74-c523-8289be255885"
   },
   "outputs": [
    {
     "name": "stdout",
     "output_type": "stream",
     "text": [
      "(50410, 8)\n"
     ]
    }
   ],
   "source": [
    "X_final=np.concatenate([X_num_fs,X_cat_ohe],axis=1)\n",
    "print(X_final.shape)"
   ]
  },
  {
   "cell_type": "markdown",
   "metadata": {
    "id": "pjYO48SOX_n5"
   },
   "source": [
    "### TRAIN TEST SPLIT"
   ]
  },
  {
   "cell_type": "code",
   "execution_count": 78,
   "metadata": {
    "id": "zPYaqXxGYCdC"
   },
   "outputs": [
    {
     "name": "stdout",
     "output_type": "stream",
     "text": [
      "(40328, 8) (10082, 8) (40328,) (10082,)\n"
     ]
    }
   ],
   "source": [
    "from sklearn.model_selection import train_test_split\n",
    "X_train,X_test,y_train,y_test=train_test_split(X_final,y,test_size=0.2) \n",
    "print(X_train.shape,X_test.shape,y_train.shape,y_test.shape)"
   ]
  },
  {
   "cell_type": "markdown",
   "metadata": {
    "id": "3tbQFBs0Ywnq"
   },
   "source": [
    "### DATA SCALING"
   ]
  },
  {
   "cell_type": "code",
   "execution_count": 79,
   "metadata": {
    "id": "YIKy-trQYyY3"
   },
   "outputs": [
    {
     "name": "stdout",
     "output_type": "stream",
     "text": [
      "(40328, 8) (10082, 8)\n"
     ]
    }
   ],
   "source": [
    "from sklearn.preprocessing import MinMaxScaler\n",
    "mms=MinMaxScaler(feature_range=(0,1))\n",
    "mms.fit(X_train)\n",
    "X_train_scaled = mms.transform(X_train)\n",
    "X_test_scaled = mms.transform(X_test)\n",
    "print(X_train_scaled.shape,X_test_scaled.shape)"
   ]
  },
  {
   "cell_type": "markdown",
   "metadata": {},
   "source": [
    "# ML MODEL"
   ]
  },
  {
   "cell_type": "markdown",
   "metadata": {},
   "source": [
    "### Linear Regression"
   ]
  },
  {
   "cell_type": "code",
   "execution_count": 92,
   "metadata": {
    "id": "b97_aOs7ce_8"
   },
   "outputs": [
    {
     "data": {
      "text/plain": [
       "LinearRegression()"
      ]
     },
     "execution_count": 92,
     "metadata": {},
     "output_type": "execute_result"
    }
   ],
   "source": [
    "from sklearn.linear_model import LinearRegression\n",
    "lr = LinearRegression()\n",
    "lr.fit(X_train_scaled, y_train)"
   ]
  },
  {
   "cell_type": "code",
   "execution_count": 93,
   "metadata": {},
   "outputs": [],
   "source": [
    "y_pred = np.round(lr.predict(X_test_scaled)).astype('int32')"
   ]
  },
  {
   "cell_type": "code",
   "execution_count": 94,
   "metadata": {
    "scrolled": true
   },
   "outputs": [
    {
     "data": {
      "text/plain": [
       "array([1912, 1901, 2182, ..., 1554, 1927, 1571])"
      ]
     },
     "execution_count": 94,
     "metadata": {},
     "output_type": "execute_result"
    }
   ],
   "source": [
    "y_pred"
   ]
  },
  {
   "cell_type": "code",
   "execution_count": 95,
   "metadata": {},
   "outputs": [
    {
     "name": "stdout",
     "output_type": "stream",
     "text": [
      "MAE: 108.53650069430668\n",
      "MSE:20323.10087284269\n",
      "R2 Score:0.6151789514692063\n"
     ]
    }
   ],
   "source": [
    "from sklearn.linear_model import LinearRegression\n",
    "lr = LinearRegression()\n",
    "lr.fit(X_train_scaled, y_train)\n",
    "\n",
    "y_pred = np.round(lr.predict(X_test_scaled)).astype('int32')\n",
    "\n",
    "from sklearn.metrics import mean_absolute_error, mean_squared_error,r2_score\n",
    "mae = mean_absolute_error(y_test, y_pred)\n",
    "mse = mean_squared_error(y_test, y_pred)\n",
    "r2_scor = r2_score(y_test, y_pred)\n",
    "print('MAE: {0}'.format(mae))\n",
    "print('MSE:{0}'.format(mse))\n",
    "print('R2 Score:{0}'.format(r2_scor))"
   ]
  },
  {
   "cell_type": "markdown",
   "metadata": {},
   "source": [
    "### Random Forest Regression"
   ]
  },
  {
   "cell_type": "code",
   "execution_count": 1,
   "metadata": {},
   "outputs": [
    {
     "ename": "NameError",
     "evalue": "name 'X_train_scaled' is not defined",
     "output_type": "error",
     "traceback": [
      "\u001b[1;31m---------------------------------------------------------------------------\u001b[0m",
      "\u001b[1;31mNameError\u001b[0m                                 Traceback (most recent call last)",
      "\u001b[1;32m~\\AppData\\Local\\Temp/ipykernel_3264/1371780401.py\u001b[0m in \u001b[0;36m<module>\u001b[1;34m\u001b[0m\n\u001b[0;32m      4\u001b[0m \u001b[1;33m\u001b[0m\u001b[0m\n\u001b[0;32m      5\u001b[0m \u001b[0mrfr\u001b[0m \u001b[1;33m=\u001b[0m \u001b[0mRandomForestRegressor\u001b[0m\u001b[1;33m(\u001b[0m\u001b[0mn_estimators\u001b[0m\u001b[1;33m=\u001b[0m\u001b[1;36m1000\u001b[0m\u001b[1;33m,\u001b[0m \u001b[0mmax_features\u001b[0m\u001b[1;33m=\u001b[0m\u001b[1;34m'sqrt'\u001b[0m\u001b[1;33m)\u001b[0m\u001b[1;33m\u001b[0m\u001b[1;33m\u001b[0m\u001b[0m\n\u001b[1;32m----> 6\u001b[1;33m \u001b[0mrfr\u001b[0m\u001b[1;33m.\u001b[0m\u001b[0mfit\u001b[0m\u001b[1;33m(\u001b[0m\u001b[0mX_train_scaled\u001b[0m\u001b[1;33m,\u001b[0m \u001b[0my_train\u001b[0m\u001b[1;33m)\u001b[0m\u001b[1;33m\u001b[0m\u001b[1;33m\u001b[0m\u001b[0m\n\u001b[0m\u001b[0;32m      7\u001b[0m \u001b[1;33m\u001b[0m\u001b[0m\n\u001b[0;32m      8\u001b[0m \u001b[0my_pred\u001b[0m \u001b[1;33m=\u001b[0m \u001b[0mnp\u001b[0m\u001b[1;33m.\u001b[0m\u001b[0mround\u001b[0m\u001b[1;33m(\u001b[0m\u001b[0mrfr\u001b[0m\u001b[1;33m.\u001b[0m\u001b[0mpredict\u001b[0m\u001b[1;33m(\u001b[0m\u001b[0mX_test_scaled\u001b[0m\u001b[1;33m)\u001b[0m\u001b[1;33m)\u001b[0m\u001b[1;33m.\u001b[0m\u001b[0mastype\u001b[0m\u001b[1;33m(\u001b[0m\u001b[1;34m'int32'\u001b[0m\u001b[1;33m)\u001b[0m\u001b[1;33m\u001b[0m\u001b[1;33m\u001b[0m\u001b[0m\n",
      "\u001b[1;31mNameError\u001b[0m: name 'X_train_scaled' is not defined"
     ]
    }
   ],
   "source": [
    "#random forest regression\n",
    "\n",
    "from sklearn.ensemble import RandomForestRegressor\n",
    "\n",
    "rfr = RandomForestRegressor(n_estimators=1000, max_features='sqrt')\n",
    "rfr.fit(X_train_scaled, y_train)\n",
    "\n",
    "y_pred = np.round(rfr.predict(X_test_scaled)).astype('int32')\n",
    "\n",
    "y_pred"
   ]
  },
  {
   "cell_type": "code",
   "execution_count": 103,
   "metadata": {},
   "outputs": [
    {
     "name": "stdout",
     "output_type": "stream",
     "text": [
      "MAE: 91.9361237849633\n",
      "MSE:16906.788930767703\n",
      "R2 Score:0.6798673448341347\n"
     ]
    }
   ],
   "source": [
    "mae = mean_absolute_error(y_test, y_pred)\n",
    "mse = mean_squared_error(y_test, y_pred)\n",
    "r2_sc = r2_score(y_test, y_pred)\n",
    "\n",
    "print('MAE: {0}'.format(mae))\n",
    "print('MSE:{0}'.format(mse))\n",
    "print('R2 Score:{0}'.format(r2_sc))"
   ]
  },
  {
   "cell_type": "markdown",
   "metadata": {},
   "source": [
    "### XGBoost Regression"
   ]
  },
  {
   "cell_type": "code",
   "execution_count": 105,
   "metadata": {
    "scrolled": true
   },
   "outputs": [
    {
     "name": "stdout",
     "output_type": "stream",
     "text": [
      "MAE: 90.5135885736957\n",
      "MSE:16149.191033525094\n",
      "R2 Score:0.6942125778281412\n"
     ]
    }
   ],
   "source": [
    "from xgboost import XGBRegressor\n",
    "\n",
    "xgb = XGBRegressor()\n",
    "xgb.fit(X_train_scaled, y_train)\n",
    "\n",
    "y_pred = np.round(xgb.predict(X_test_scaled)).astype('int32')\n",
    "\n",
    "mae = mean_absolute_error(y_test, y_pred)\n",
    "mse = mean_squared_error(y_test, y_pred)\n",
    "r2_sc = r2_score(y_test, y_pred)  # type: ignore\n",
    "\n",
    "print('MAE: {0}'.format(mae))\n",
    "print('MSE:{0}'.format(mse))\n",
    "print('R2 Score:{0}'.format(r2_sc))"
   ]
  },
  {
   "cell_type": "code",
   "execution_count": null,
   "metadata": {},
   "outputs": [],
   "source": []
  }
 ],
 "metadata": {
  "accelerator": "GPU",
  "colab": {
   "provenance": []
  },
  "gpuClass": "standard",
  "kernelspec": {
   "display_name": "Python 3 (ipykernel)",
   "language": "python",
   "name": "python3"
  },
  "language_info": {
   "codemirror_mode": {
    "name": "ipython",
    "version": 3
   },
   "file_extension": ".py",
   "mimetype": "text/x-python",
   "name": "python",
   "nbconvert_exporter": "python",
   "pygments_lexer": "ipython3",
   "version": "3.9.7"
  },
  "vscode": {
   "interpreter": {
    "hash": "0c4598cb0e8224ee4992ef7f7aa2c97883472946fa3b7b41abaa0dd95d9de624"
   }
  }
 },
 "nbformat": 4,
 "nbformat_minor": 1
}
