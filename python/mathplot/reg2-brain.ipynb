{
 "cells": [
  {
   "cell_type": "code",
   "execution_count": 1,
   "metadata": {},
   "outputs": [],
   "source": [
    "import matplotlib.pyplot as plt\n",
    "import numpy as np\n",
    "import pandas as pd"
   ]
  },
  {
   "cell_type": "code",
   "execution_count": 60,
   "metadata": {},
   "outputs": [
    {
     "data": {
      "text/html": [
       "<div>\n",
       "<style scoped>\n",
       "    .dataframe tbody tr th:only-of-type {\n",
       "        vertical-align: middle;\n",
       "    }\n",
       "\n",
       "    .dataframe tbody tr th {\n",
       "        vertical-align: top;\n",
       "    }\n",
       "\n",
       "    .dataframe thead th {\n",
       "        text-align: right;\n",
       "    }\n",
       "</style>\n",
       "<table border=\"1\" class=\"dataframe\">\n",
       "  <thead>\n",
       "    <tr style=\"text-align: right;\">\n",
       "      <th></th>\n",
       "      <th>brain weight</th>\n",
       "      <th>body weight</th>\n",
       "    </tr>\n",
       "  </thead>\n",
       "  <tbody>\n",
       "    <tr>\n",
       "      <th>0</th>\n",
       "      <td>3.385</td>\n",
       "      <td>44.5</td>\n",
       "    </tr>\n",
       "    <tr>\n",
       "      <th>1</th>\n",
       "      <td>0.480</td>\n",
       "      <td>15.5</td>\n",
       "    </tr>\n",
       "    <tr>\n",
       "      <th>2</th>\n",
       "      <td>1.350</td>\n",
       "      <td>8.1</td>\n",
       "    </tr>\n",
       "    <tr>\n",
       "      <th>3</th>\n",
       "      <td>465.000</td>\n",
       "      <td>423.0</td>\n",
       "    </tr>\n",
       "    <tr>\n",
       "      <th>4</th>\n",
       "      <td>36.330</td>\n",
       "      <td>119.5</td>\n",
       "    </tr>\n",
       "    <tr>\n",
       "      <th>...</th>\n",
       "      <td>...</td>\n",
       "      <td>...</td>\n",
       "    </tr>\n",
       "    <tr>\n",
       "      <th>57</th>\n",
       "      <td>160.000</td>\n",
       "      <td>169.0</td>\n",
       "    </tr>\n",
       "    <tr>\n",
       "      <th>58</th>\n",
       "      <td>0.900</td>\n",
       "      <td>2.6</td>\n",
       "    </tr>\n",
       "    <tr>\n",
       "      <th>59</th>\n",
       "      <td>1.620</td>\n",
       "      <td>11.4</td>\n",
       "    </tr>\n",
       "    <tr>\n",
       "      <th>60</th>\n",
       "      <td>0.104</td>\n",
       "      <td>2.5</td>\n",
       "    </tr>\n",
       "    <tr>\n",
       "      <th>61</th>\n",
       "      <td>4.235</td>\n",
       "      <td>50.4</td>\n",
       "    </tr>\n",
       "  </tbody>\n",
       "</table>\n",
       "<p>62 rows × 2 columns</p>\n",
       "</div>"
      ],
      "text/plain": [
       "    brain weight  body weight\n",
       "0          3.385         44.5\n",
       "1          0.480         15.5\n",
       "2          1.350          8.1\n",
       "3        465.000        423.0\n",
       "4         36.330        119.5\n",
       "..           ...          ...\n",
       "57       160.000        169.0\n",
       "58         0.900          2.6\n",
       "59         1.620         11.4\n",
       "60         0.104          2.5\n",
       "61         4.235         50.4\n",
       "\n",
       "[62 rows x 2 columns]"
      ]
     },
     "execution_count": 60,
     "metadata": {},
     "output_type": "execute_result"
    }
   ],
   "source": [
    "brain = pd.read_csv('brain.csv')\n",
    "brain = brain.drop(columns='index')\n",
    "brain"
   ]
  },
  {
   "cell_type": "code",
   "execution_count": 81,
   "metadata": {},
   "outputs": [
    {
     "name": "stdout",
     "output_type": "stream",
     "text": [
      "A = 55.95185718803252 \n",
      "B = 1.2427127611030833\n",
      "Mean Squared Error = 1772287.721330869\n"
     ]
    }
   ],
   "source": [
    "y = brain['body weight']\n",
    "x = brain['brain weight']\n",
    "\n",
    "x_mean = np.mean(x)\n",
    "y_mean = np.mean(y)\n",
    "\n",
    "Sxx = np.sum(x*x) - x_mean*x_mean*len(x)\n",
    "Syy = np.sum(y*y) - y_mean*y_mean*len(y)\n",
    "Sxy = np.sum(x*y) - x_mean*y_mean*len(x)\n",
    "\n",
    "B = Sxy/Sxx\n",
    "A = y_mean - B*x_mean\n",
    "\n",
    "y_pred = A + B*x\n",
    "MSE = np.sum((y-y_pred)**2)\n",
    "\n",
    "print(f\"A = {A} \\nB = {B}\")\n",
    "print(f\"Mean Squared Error = {MSE}\")\n"
   ]
  },
  {
   "cell_type": "code",
   "execution_count": 54,
   "metadata": {},
   "outputs": [
    {
     "data": {
      "image/png": "[encoded data removed]",
      "text/plain": [
       "<Figure size 432x288 with 1 Axes>"
      ]
     },
     "metadata": {
      "needs_background": "light"
     },
     "output_type": "display_data"
    }
   ],
   "source": [
    "plt.scatter(x,y)\n",
    "plt.plot(x,y_pred)\n",
    "plt.show()"
   ]
  },
  {
   "cell_type": "code",
   "execution_count": 85,
   "metadata": {},
   "outputs": [
    {
     "name": "stdout",
     "output_type": "stream",
     "text": [
      "A = 55.95185718803252 \n",
      "B = 1.2427127611030833\n",
      "Mean Squared Error = 1772287.721330869\n"
     ]
    }
   ],
   "source": [
    "#brain = brain.drop(brain[brain['brain weight'] > 1000].index)\n",
    "# or\n",
    "for i in range(len(brain)):\n",
    "    if brain.iloc[i]['brain weight'] > 1000:\n",
    "        brain = brain.drop(brain.index[[i]])\n",
    "\n",
    "\n",
    "y1 = brain['body weight']\n",
    "x1 = brain['brain weight']\n",
    "\n",
    "x_mean = np.mean(x)\n",
    "y_mean = np.mean(y)\n",
    "\n",
    "Sxx = np.sum(x*x) - x_mean*x_mean*len(x)\n",
    "Syy = np.sum(y*y) - y_mean*y_mean*len(y)\n",
    "Sxy = np.sum(x*y) - x_mean*y_mean*len(x)\n",
    "\n",
    "B = Sxy/Sxx\n",
    "A = y_mean - B*x_mean\n",
    "\n",
    "y_pred = A + B*x\n",
    "MSE = np.sum((y-y_pred)**2)\n",
    "\n",
    "print(f\"A = {A} \\nB = {B}\")\n",
    "print(f\"Mean Squared Error = {MSE}\")"
   ]
  },
  {
   "cell_type": "code",
   "execution_count": 86,
   "metadata": {},
   "outputs": [
    {
     "data": {
      "image/png": "[encoded data removed]",
      "text/plain": [
       "<Figure size 432x288 with 1 Axes>"
      ]
     },
     "metadata": {
      "needs_background": "light"
     },
     "output_type": "display_data"
    }
   ],
   "source": [
    "plt.scatter(x1,y1)\n",
    "plt.plot(x1, y_pred)\n",
    "plt.show()"
   ]
  }
 ],
 "metadata": {
  "interpreter": {
   "hash": "cd764cb75906b4618444324e3b8695ad5c84ed64f2b5b7a1b2895179f9f37c0f"
  },
  "kernelspec": {
   "display_name": "Python 3.9.7 64-bit",
   "language": "python",
   "name": "python3"
  },
  "language_info": {
   "codemirror_mode": {
    "name": "ipython",
    "version": 3
   },
   "file_extension": ".py",
   "mimetype": "text/x-python",
   "name": "python",
   "nbconvert_exporter": "python",
   "pygments_lexer": "ipython3",
   "version": "3.9.7"
  },
  "orig_nbformat": 4
 },
 "nbformat": 4,
 "nbformat_minor": 2
}
