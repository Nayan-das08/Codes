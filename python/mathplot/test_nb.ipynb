{
 "cells": [
  {
   "cell_type": "markdown",
   "metadata": {},
   "source": [
    "let f(x) = x<sup>2</sup><br>\n",
    "f'(x) = 2x"
   ]
  },
  {
   "cell_type": "code",
   "execution_count": 2,
   "metadata": {},
   "outputs": [],
   "source": [
    "def fDer(x):\n",
    "    return 2*x"
   ]
  },
  {
   "cell_type": "code",
   "execution_count": 3,
   "metadata": {},
   "outputs": [
    {
     "name": "stdout",
     "output_type": "stream",
     "text": [
      "9999999\t1.2347e-320\n"
     ]
    }
   ],
   "source": [
    "x = 0.67\n",
    "h = 0.0001\n",
    "for i in range(10000000):\n",
    "    x = x - h*fDer(x)\n",
    "    if x == 0:\n",
    "        break\n",
    "print(f\"{i}\\t{x}\")"
   ]
  }
 ],
 "metadata": {
  "interpreter": {
   "hash": "cd764cb75906b4618444324e3b8695ad5c84ed64f2b5b7a1b2895179f9f37c0f"
  },
  "kernelspec": {
   "display_name": "Python 3.9.7 64-bit",
   "language": "python",
   "name": "python3"
  },
  "language_info": {
   "codemirror_mode": {
    "name": "ipython",
    "version": 3
   },
   "file_extension": ".py",
   "mimetype": "text/x-python",
   "name": "python",
   "nbconvert_exporter": "python",
   "pygments_lexer": "ipython3",
   "version": "3.9.7"
  },
  "orig_nbformat": 4
 },
 "nbformat": 4,
 "nbformat_minor": 2
}
